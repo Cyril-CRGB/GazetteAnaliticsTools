{
  "cells": [
    {
      "cell_type": "markdown",
      "metadata": {
        "id": "0aStgWSO0E0E"
      },
      "source": [
        "# **CONTENTDATA COLLECTION NOTEBOOK**"
      ]
    },
    {
      "cell_type": "markdown",
      "metadata": {
        "id": "1eLEkw5O0ECa"
      },
      "source": [
        "## Objectives\n",
        "\n",
        "* Use inputs/metadata/gazette_metadata_jupyter.csv to fetch further informations.\n",
        "\n",
        "## Inputs\n",
        "\n",
        "* inputs/metadata/gazette_metadata_jupyter.csv\n",
        "\n",
        "## Outputs\n",
        "\n",
        "* The output data is a csv file called inputs/contentdata/gazette_contentdata_jupyter.csv\n",
        "\n",
        "## Additional Comments\n",
        "\n",
        "* ...\n"
      ]
    },
    {
      "cell_type": "markdown",
      "metadata": {
        "id": "9uWZXH9LwoQg"
      },
      "source": [
        "---"
      ]
    },
    {
      "cell_type": "markdown",
      "metadata": {},
      "source": [
        "# Install python packages in the notebooks"
      ]
    },
    {
      "cell_type": "code",
      "execution_count": 1,
      "metadata": {},
      "outputs": [
        {
          "name": "stdout",
          "output_type": "stream",
          "text": [
            "Defaulting to user installation because normal site-packages is not writeable\n",
            "Requirement already satisfied: requests in /workspace/.pyenv_mirror/user/current/lib/python3.10/site-packages (2.32.3)\n",
            "Requirement already satisfied: xmltodict in /workspace/.pyenv_mirror/user/current/lib/python3.10/site-packages (0.14.2)\n",
            "Requirement already satisfied: psycopg2-binary in /workspace/.pyenv_mirror/user/current/lib/python3.10/site-packages (2.9.10)\n",
            "Requirement already satisfied: pandas in /workspace/.pyenv_mirror/user/current/lib/python3.10/site-packages (2.2.3)\n",
            "Requirement already satisfied: idna<4,>=2.5 in /workspace/.pyenv_mirror/user/current/lib/python3.10/site-packages (from requests) (3.10)\n",
            "Requirement already satisfied: urllib3<3,>=1.21.1 in /workspace/.pyenv_mirror/user/current/lib/python3.10/site-packages (from requests) (2.4.0)\n",
            "Requirement already satisfied: certifi>=2017.4.17 in /workspace/.pyenv_mirror/user/current/lib/python3.10/site-packages (from requests) (2025.4.26)\n",
            "Requirement already satisfied: charset-normalizer<4,>=2 in /workspace/.pyenv_mirror/user/current/lib/python3.10/site-packages (from requests) (3.4.2)\n",
            "Requirement already satisfied: numpy>=1.22.4 in /workspace/.pyenv_mirror/user/current/lib/python3.10/site-packages (from pandas) (2.2.6)\n",
            "Requirement already satisfied: tzdata>=2022.7 in /workspace/.pyenv_mirror/user/current/lib/python3.10/site-packages (from pandas) (2025.2)\n",
            "Requirement already satisfied: python-dateutil>=2.8.2 in /workspace/.pyenv_mirror/user/current/lib/python3.10/site-packages (from pandas) (2.9.0.post0)\n",
            "Requirement already satisfied: pytz>=2020.1 in /workspace/.pyenv_mirror/user/current/lib/python3.10/site-packages (from pandas) (2025.2)\n",
            "Requirement already satisfied: six>=1.5 in /usr/lib/python3/dist-packages (from python-dateutil>=2.8.2->pandas) (1.16.0)\n",
            "Note: you may need to restart the kernel to use updated packages.\n"
          ]
        }
      ],
      "source": [
        "%pip install requests xmltodict psycopg2-binary pandas"
      ]
    },
    {
      "cell_type": "markdown",
      "metadata": {},
      "source": [
        "---"
      ]
    },
    {
      "cell_type": "markdown",
      "metadata": {
        "id": "cqP-UeN-z3i2"
      },
      "source": [
        "# Change working directory"
      ]
    },
    {
      "cell_type": "markdown",
      "metadata": {},
      "source": [
        "* Storing the notebooks in a subfolder, therefore we change the working directory from its current folder to its parent folder"
      ]
    },
    {
      "cell_type": "markdown",
      "metadata": {
        "id": "aOGIGS-uz3i2"
      },
      "source": [
        "* We access the current directory with os.getcwd()"
      ]
    },
    {
      "cell_type": "code",
      "execution_count": 1,
      "metadata": {
        "id": "wZfF_j-Bz3i4",
        "outputId": "66943449-1436-4c3d-85c7-b85f9f78349b"
      },
      "outputs": [
        {
          "data": {
            "text/plain": [
              "'/workspace/GazetteAnaliticsTools/jupyter_notebooks'"
            ]
          },
          "execution_count": 1,
          "metadata": {},
          "output_type": "execute_result"
        }
      ],
      "source": [
        "import os\n",
        "current_dir = os.getcwd()\n",
        "current_dir"
      ]
    },
    {
      "cell_type": "markdown",
      "metadata": {
        "id": "9MWW8E7lz3i7"
      },
      "source": [
        "We want to make the parent of the current directory the new current directory\n",
        "* os.path.dirname() gets the parent directory\n",
        "* os.chir() defines the new current directory"
      ]
    },
    {
      "cell_type": "code",
      "execution_count": 2,
      "metadata": {
        "id": "TwHsQRWjz3i9",
        "outputId": "86849db3-cd2f-4cc5-ebb8-2d0caafa1a2c"
      },
      "outputs": [
        {
          "name": "stdout",
          "output_type": "stream",
          "text": [
            "You set a new current directory\n"
          ]
        }
      ],
      "source": [
        "os.chdir(os.path.dirname(current_dir))\n",
        "print(\"You set a new current directory\")"
      ]
    },
    {
      "cell_type": "markdown",
      "metadata": {
        "id": "M_xPk_Ijz3i-"
      },
      "source": [
        "Confirm the new current directory"
      ]
    },
    {
      "cell_type": "code",
      "execution_count": 3,
      "metadata": {
        "id": "vz3S-_kjz3jA",
        "outputId": "00b79ae4-75d0-4a96-d193-ac9ef9847ea2"
      },
      "outputs": [
        {
          "data": {
            "text/plain": [
              "'/workspace/GazetteAnaliticsTools'"
            ]
          },
          "execution_count": 3,
          "metadata": {},
          "output_type": "execute_result"
        }
      ],
      "source": [
        "current_dir = os.getcwd()\n",
        "current_dir"
      ]
    },
    {
      "cell_type": "markdown",
      "metadata": {},
      "source": [
        "---"
      ]
    },
    {
      "cell_type": "markdown",
      "metadata": {
        "id": "-mavJ8DibrcQ"
      },
      "source": [
        "# Fetch data from the Gazette API"
      ]
    },
    {
      "cell_type": "markdown",
      "metadata": {},
      "source": [
        "### Some imports:\n",
        "* os: for reading environment variables (e.g. your PG_DSN)\n",
        "* datetime: to compute today’s date\n",
        "* uuid: to generate UUIDs for new records\n",
        "* json: to serialize raw metadata into JSONB\n",
        "* requests: to call the Gazette API\n",
        "* xmltodict: to convert the XML response into Python dicts\n",
        "* psycopg2 / psycopg2.extras.execute_values: to connect and bulk-upsert into PostgreSQL"
      ]
    },
    {
      "cell_type": "code",
      "execution_count": 4,
      "metadata": {},
      "outputs": [],
      "source": [
        "# 1. Imports Standard library\n",
        "import os, datetime, uuid, json\n",
        "# 2. Imports HTTP + XML parsing\n",
        "import requests, xmltodict\n",
        "# 3. Imports PostgreSQL driver\n",
        "import psycopg2\n",
        "from psycopg2.extras import execute_values\n",
        "# 4. Imports Pandas for data analysis\n",
        "import pandas as pd"
      ]
    },
    {
      "cell_type": "markdown",
      "metadata": {},
      "source": [
        "### Fetch list of today's metadata.csv"
      ]
    },
    {
      "cell_type": "code",
      "execution_count": 5,
      "metadata": {},
      "outputs": [
        {
          "data": {
            "text/html": [
              "<div>\n",
              "<style scoped>\n",
              "    .dataframe tbody tr th:only-of-type {\n",
              "        vertical-align: middle;\n",
              "    }\n",
              "\n",
              "    .dataframe tbody tr th {\n",
              "        vertical-align: top;\n",
              "    }\n",
              "\n",
              "    .dataframe thead th {\n",
              "        text-align: right;\n",
              "    }\n",
              "</style>\n",
              "<table border=\"1\" class=\"dataframe\">\n",
              "  <thead>\n",
              "    <tr style=\"text-align: right;\">\n",
              "      <th></th>\n",
              "      <th>ref</th>\n",
              "      <th>schemaLocation</th>\n",
              "      <th>id</th>\n",
              "      <th>subRubric</th>\n",
              "      <th>publicationDate</th>\n",
              "      <th>legalRemedy</th>\n",
              "      <th>title_en</th>\n",
              "      <th>entryType</th>\n",
              "    </tr>\n",
              "  </thead>\n",
              "  <tbody>\n",
              "    <tr>\n",
              "      <th>0</th>\n",
              "      <td>https://amtsblattportal.ch/api/v1/publications...</td>\n",
              "      <td>https://amtsblattportal.ch/api/v1/schemas/shab...</td>\n",
              "      <td>84d4f6a6-aa94-4edc-9da6-9c6c8d7b65ed</td>\n",
              "      <td>HR02</td>\n",
              "      <td>2025-01-14</td>\n",
              "      <td>Die Mutation der aufgeführten Rechtseinheit wu...</td>\n",
              "      <td>Change IST3 Beteiligungs AG, Zürich</td>\n",
              "      <td>Change</td>\n",
              "    </tr>\n",
              "    <tr>\n",
              "      <th>1</th>\n",
              "      <td>https://amtsblattportal.ch/api/v1/publications...</td>\n",
              "      <td>https://amtsblattportal.ch/api/v1/schemas/shab...</td>\n",
              "      <td>ebc8e527-d8b6-45f4-bc60-d83ff729f830</td>\n",
              "      <td>HR02</td>\n",
              "      <td>2025-01-14</td>\n",
              "      <td>Die Mutation der aufgeführten Rechtseinheit wu...</td>\n",
              "      <td>Change East Afrika Top 4 Business Group GmbH, ...</td>\n",
              "      <td>Change</td>\n",
              "    </tr>\n",
              "    <tr>\n",
              "      <th>2</th>\n",
              "      <td>https://amtsblattportal.ch/api/v1/publications...</td>\n",
              "      <td>https://amtsblattportal.ch/api/v1/schemas/shab...</td>\n",
              "      <td>e703d801-b0aa-443c-bbea-48f31fb4a277</td>\n",
              "      <td>HR02</td>\n",
              "      <td>2025-01-14</td>\n",
              "      <td>Die Mutation der aufgeführten Rechtseinheit wu...</td>\n",
              "      <td>Change Mercer Schweiz AG, Zürich</td>\n",
              "      <td>Change</td>\n",
              "    </tr>\n",
              "  </tbody>\n",
              "</table>\n",
              "</div>"
            ],
            "text/plain": [
              "                                                 ref  \\\n",
              "0  https://amtsblattportal.ch/api/v1/publications...   \n",
              "1  https://amtsblattportal.ch/api/v1/publications...   \n",
              "2  https://amtsblattportal.ch/api/v1/publications...   \n",
              "\n",
              "                                      schemaLocation  \\\n",
              "0  https://amtsblattportal.ch/api/v1/schemas/shab...   \n",
              "1  https://amtsblattportal.ch/api/v1/schemas/shab...   \n",
              "2  https://amtsblattportal.ch/api/v1/schemas/shab...   \n",
              "\n",
              "                                     id subRubric publicationDate  \\\n",
              "0  84d4f6a6-aa94-4edc-9da6-9c6c8d7b65ed      HR02      2025-01-14   \n",
              "1  ebc8e527-d8b6-45f4-bc60-d83ff729f830      HR02      2025-01-14   \n",
              "2  e703d801-b0aa-443c-bbea-48f31fb4a277      HR02      2025-01-14   \n",
              "\n",
              "                                         legalRemedy  \\\n",
              "0  Die Mutation der aufgeführten Rechtseinheit wu...   \n",
              "1  Die Mutation der aufgeführten Rechtseinheit wu...   \n",
              "2  Die Mutation der aufgeführten Rechtseinheit wu...   \n",
              "\n",
              "                                            title_en entryType  \n",
              "0                Change IST3 Beteiligungs AG, Zürich    Change  \n",
              "1  Change East Afrika Top 4 Business Group GmbH, ...    Change  \n",
              "2                   Change Mercer Schweiz AG, Zürich    Change  "
            ]
          },
          "execution_count": 5,
          "metadata": {},
          "output_type": "execute_result"
        }
      ],
      "source": [
        "# Fetch today's metadata\n",
        "df_meta = pd.read_csv(\"inputs/metadata/gazette_metadata_jupyter.csv\")\n",
        "df_meta.head(3)"
      ]
    },
    {
      "cell_type": "markdown",
      "metadata": {},
      "source": [
        "### Fetch all ref.xml for each metadata entry & Transform into flat rows"
      ]
    },
    {
      "cell_type": "code",
      "execution_count": null,
      "metadata": {},
      "outputs": [
        {
          "ename": "HTTPError",
          "evalue": "502 Server Error: Proxy Error for url: https://amtsblattportal.ch/api/v1/publications/39145594-23d5-43eb-b403-d029a2d2179e/xml",
          "output_type": "error",
          "traceback": [
            "\u001b[0;31m---------------------------------------------------------------------------\u001b[0m",
            "\u001b[0;31mHTTPError\u001b[0m                                 Traceback (most recent call last)",
            "Cell \u001b[0;32mIn[6], line 19\u001b[0m\n\u001b[1;32m     16\u001b[0m \u001b[38;5;28;01mfor\u001b[39;00m ref_url \u001b[38;5;129;01min\u001b[39;00m references:\n\u001b[1;32m     17\u001b[0m     \u001b[38;5;66;03m# Fetch & parse XML\u001b[39;00m\n\u001b[1;32m     18\u001b[0m     resp \u001b[38;5;241m=\u001b[39m requests\u001b[38;5;241m.\u001b[39mget(ref_url)\n\u001b[0;32m---> 19\u001b[0m     \u001b[43mresp\u001b[49m\u001b[38;5;241;43m.\u001b[39;49m\u001b[43mraise_for_status\u001b[49m\u001b[43m(\u001b[49m\u001b[43m)\u001b[49m\n\u001b[1;32m     20\u001b[0m     data \u001b[38;5;241m=\u001b[39m xmltodict\u001b[38;5;241m.\u001b[39mparse(resp\u001b[38;5;241m.\u001b[39mtext)\n\u001b[1;32m     21\u001b[0m     \u001b[38;5;66;03m# Find the <publication> root key (namespace-agnostic) so that if <HR01:publication...> changes the code don't break\u001b[39;00m\n",
            "File \u001b[0;32m/workspace/.pyenv_mirror/user/current/lib/python3.10/site-packages/requests/models.py:1024\u001b[0m, in \u001b[0;36mResponse.raise_for_status\u001b[0;34m(self)\u001b[0m\n\u001b[1;32m   1019\u001b[0m     http_error_msg \u001b[38;5;241m=\u001b[39m (\n\u001b[1;32m   1020\u001b[0m         \u001b[38;5;124mf\u001b[39m\u001b[38;5;124m\"\u001b[39m\u001b[38;5;132;01m{\u001b[39;00m\u001b[38;5;28mself\u001b[39m\u001b[38;5;241m.\u001b[39mstatus_code\u001b[38;5;132;01m}\u001b[39;00m\u001b[38;5;124m Server Error: \u001b[39m\u001b[38;5;132;01m{\u001b[39;00mreason\u001b[38;5;132;01m}\u001b[39;00m\u001b[38;5;124m for url: \u001b[39m\u001b[38;5;132;01m{\u001b[39;00m\u001b[38;5;28mself\u001b[39m\u001b[38;5;241m.\u001b[39murl\u001b[38;5;132;01m}\u001b[39;00m\u001b[38;5;124m\"\u001b[39m\n\u001b[1;32m   1021\u001b[0m     )\n\u001b[1;32m   1023\u001b[0m \u001b[38;5;28;01mif\u001b[39;00m http_error_msg:\n\u001b[0;32m-> 1024\u001b[0m     \u001b[38;5;28;01mraise\u001b[39;00m HTTPError(http_error_msg, response\u001b[38;5;241m=\u001b[39m\u001b[38;5;28mself\u001b[39m)\n",
            "\u001b[0;31mHTTPError\u001b[0m: 502 Server Error: Proxy Error for url: https://amtsblattportal.ch/api/v1/publications/39145594-23d5-43eb-b403-d029a2d2179e/xml"
          ]
        }
      ],
      "source": [
        "#1. Paths\n",
        "input_path  = \"inputs/metadata/gazette_metadata_jupyter.csv\"\n",
        "\n",
        "#2. Load previous CSV of refs\n",
        "references = df_meta[\"ref\"].dropna().unique().tolist()\n",
        "\n",
        "#3. Define the mapping for subRubric -> entryType\n",
        "rubric_map = {\n",
        "    \"HR01\": \"New entries\",\n",
        "    \"HR02\": \"Change\",\n",
        "    \"HR03\": \"Deletion\"\n",
        "}\n",
        "\n",
        "#4. Build the rows, and replace subRubric with entryType\n",
        "rows = []\n",
        "for ref_url in references:\n",
        "    # Fetch & parse XML\n",
        "    resp = requests.get(ref_url)\n",
        "    resp.raise_for_status()\n",
        "    data = xmltodict.parse(resp.text)\n",
        "    # Find the <publication> root key (namespace-agnostic) so that if <HR01:publication...> changes the code don't break\n",
        "    root_key = next((k for k in data if k.endswith(\"publication\")), None)\n",
        "    pub      = data[root_key] if root_key else {}\n",
        "    \n",
        "    meta    = pub.get(\"meta\", {})\n",
        "    content = pub.get(\"content\", {})\n",
        "    sub     = meta.get(\"subRubric\", \"\")\n",
        "\n",
        "    # Build the row\n",
        "    row = {\n",
        "        # -- meta fields --\n",
        "        \"id\":               meta.get(\"id\", \"no data\"),\n",
        "        \"entryType\":        rubric_map.get(sub, \"no data\"),\n",
        "        \"language\":         meta.get(\"language\", \"no data\"),\n",
        "        \"publicationDate\":  meta.get(\"publicationDate\") or None,\n",
        "        \"legalRemedy\":      meta.get(\"legalRemedy\", \"no data\"),\n",
        "        \"cantons\":      meta.get(\"cantons\", \"no data\"),\n",
        "        \"title_en\":         meta.get(\"title\", {}).get(\"en\", \"no data\"),\n",
        "        # -- content fields --\n",
        "        \"journal_date\":     content.get(\"journalDate\") or None,\n",
        "        \"publication_text\": content.get(\"publicationText\", \"no data\"),\n",
        "    }\n",
        "    \n",
        "    # -- company / commonsNew --\n",
        "    commons = content.get(\"commonsActual\", {}) if sub == \"HR03\" else content.get(\"commonsNew\", {})\n",
        "    comp    = commons.get(\"company\", {})\n",
        "    addr    = comp.get(\"address\", {})\n",
        "    row.update({\n",
        "        \"company_name\":             comp.get(\"name\", \"no data\"),\n",
        "        \"company_uid\":              comp.get(\"uid\", \"no data\"),\n",
        "        \"company_code13\":           comp.get(\"code13\", \"no data\"),\n",
        "        \"company_seat\":             comp.get(\"seat\", \"no data\"),\n",
        "        \"company_legalForm\":        comp.get(\"legalForm\", \"no data\"),\n",
        "        \"company_street_and_number\": f\"{addr.get('street','no data')} {addr.get('houseNumber','no data')}\",\n",
        "        \"company_zip_and_town\":      f\"{addr.get('swissZipCode','no data')} {addr.get('town','no data')}\",\n",
        "        \"company_purpose\":          commons.get(\"purpose\", \"no data\"),\n",
        "    })\n",
        "    \n",
        "    # -- capital & revision --\n",
        "    cap     = commons.get(\"capital\", {})\n",
        "    revision= commons.get(\"revision\", {})\n",
        "    row.update({\n",
        "        \"company_capital_nominal\": cap.get(\"nominal\") or None,\n",
        "        \"company_capital_paid\":    cap.get(\"paid\") or None,\n",
        "        \"company_optingout\":       revision.get(\"optingOut\") or None,\n",
        "    })\n",
        "    \n",
        "    # -- deletion date from transaction.delete --\n",
        "    delete  = content.get(\"transaction\", {}).get(\"delete\", {})\n",
        "    row[\"company_deletiondate\"] = delete.get(\"deletionDate\") or None,\n",
        "    \n",
        "    rows.append(row)\n"
      ]
    },
    {
      "cell_type": "markdown",
      "metadata": {},
      "source": [
        "### Save inside new .csv"
      ]
    },
    {
      "cell_type": "code",
      "execution_count": 7,
      "metadata": {},
      "outputs": [],
      "source": [
        "#1. Where to write\n",
        "output_path = \"inputs/contentdata/gazette_contentdata_jupyter.csv\"\n",
        "os.makedirs(os.path.dirname(output_path), exist_ok=True)"
      ]
    },
    {
      "cell_type": "code",
      "execution_count": 8,
      "metadata": {},
      "outputs": [],
      "source": [
        "#7. Dump to CSV (append if exists, otherwise write header)\n",
        "df_content = pd.DataFrame(rows)"
      ]
    },
    {
      "cell_type": "markdown",
      "metadata": {
        "id": "ZY3l0-AxO93d"
      },
      "source": [
        "---"
      ]
    },
    {
      "cell_type": "markdown",
      "metadata": {
        "id": "uFQo3ycuO-v6"
      },
      "source": [
        "# Inspect meta data"
      ]
    },
    {
      "cell_type": "markdown",
      "metadata": {},
      "source": [
        "Section 2 content"
      ]
    },
    {
      "cell_type": "code",
      "execution_count": 9,
      "metadata": {},
      "outputs": [
        {
          "data": {
            "text/html": [
              "<div>\n",
              "<style scoped>\n",
              "    .dataframe tbody tr th:only-of-type {\n",
              "        vertical-align: middle;\n",
              "    }\n",
              "\n",
              "    .dataframe tbody tr th {\n",
              "        vertical-align: top;\n",
              "    }\n",
              "\n",
              "    .dataframe thead th {\n",
              "        text-align: right;\n",
              "    }\n",
              "</style>\n",
              "<table border=\"1\" class=\"dataframe\">\n",
              "  <thead>\n",
              "    <tr style=\"text-align: right;\">\n",
              "      <th></th>\n",
              "      <th>id</th>\n",
              "      <th>entryType</th>\n",
              "      <th>language</th>\n",
              "      <th>publicationDate</th>\n",
              "      <th>legalRemedy</th>\n",
              "      <th>cantons</th>\n",
              "      <th>title_en</th>\n",
              "      <th>journal_date</th>\n",
              "      <th>publication_text</th>\n",
              "      <th>company_name</th>\n",
              "      <th>...</th>\n",
              "      <th>company_code13</th>\n",
              "      <th>company_seat</th>\n",
              "      <th>company_legalForm</th>\n",
              "      <th>company_street_and_number</th>\n",
              "      <th>company_zip_and_town</th>\n",
              "      <th>company_purpose</th>\n",
              "      <th>company_capital_nominal</th>\n",
              "      <th>company_capital_paid</th>\n",
              "      <th>company_optingout</th>\n",
              "      <th>company_deletiondate</th>\n",
              "    </tr>\n",
              "  </thead>\n",
              "  <tbody>\n",
              "    <tr>\n",
              "      <th>0</th>\n",
              "      <td>40d64a9e-e70c-4f17-b022-59ae0690f155</td>\n",
              "      <td>Deletion</td>\n",
              "      <td>fr</td>\n",
              "      <td>2025-01-13</td>\n",
              "      <td>no data</td>\n",
              "      <td>GE</td>\n",
              "      <td>Deletion FINDERS SA succursale de Genève, Genève</td>\n",
              "      <td>2025-01-08</td>\n",
              "      <td>FINDERS SA succursale de Genève, à Genève, CHE...</td>\n",
              "      <td>FINDERS SA succursale de Genève</td>\n",
              "      <td>...</td>\n",
              "      <td>CH66012909977</td>\n",
              "      <td>Genève</td>\n",
              "      <td>0151</td>\n",
              "      <td>rue du Port 8-10</td>\n",
              "      <td>1204 Genève</td>\n",
              "      <td>recherche et sélection de personnel administra...</td>\n",
              "      <td>no data</td>\n",
              "      <td>no data</td>\n",
              "      <td>no data</td>\n",
              "      <td>2025-01-08</td>\n",
              "    </tr>\n",
              "    <tr>\n",
              "      <th>1</th>\n",
              "      <td>d341fee7-5dd9-4507-ba53-f6b08df9be5b</td>\n",
              "      <td>Deletion</td>\n",
              "      <td>fr</td>\n",
              "      <td>2025-01-13</td>\n",
              "      <td>no data</td>\n",
              "      <td>VS</td>\n",
              "      <td>Deletion Intermarché Morgins, Didier Touillet,...</td>\n",
              "      <td>2025-01-08</td>\n",
              "      <td>Intermarché Morgins, Didier Touillet, à Troist...</td>\n",
              "      <td>Intermarché Morgins, Didier Touillet</td>\n",
              "      <td>...</td>\n",
              "      <td>CH62110015528</td>\n",
              "      <td>Troistorrents</td>\n",
              "      <td>0101</td>\n",
              "      <td>Route du Village 8</td>\n",
              "      <td>1875 Morgins</td>\n",
              "      <td>exploitation d'un magasin d'alimentation générale</td>\n",
              "      <td>no data</td>\n",
              "      <td>no data</td>\n",
              "      <td>no data</td>\n",
              "      <td>2025-01-08</td>\n",
              "    </tr>\n",
              "    <tr>\n",
              "      <th>2</th>\n",
              "      <td>7403ed4c-3dab-4366-922a-de81d6e85d19</td>\n",
              "      <td>Deletion</td>\n",
              "      <td>fr</td>\n",
              "      <td>2025-01-13</td>\n",
              "      <td>no data</td>\n",
              "      <td>VS</td>\n",
              "      <td>Deletion P.A.D, Phillipe Aubert Distribution, ...</td>\n",
              "      <td>2025-01-08</td>\n",
              "      <td>P.A.D, Phillipe Aubert Distribution, à Arbaz, ...</td>\n",
              "      <td>P.A.D, Phillipe Aubert Distribution</td>\n",
              "      <td>...</td>\n",
              "      <td>CH55011069836</td>\n",
              "      <td>Arbaz</td>\n",
              "      <td>0101</td>\n",
              "      <td>Route de Grand-Pro Barra 19</td>\n",
              "      <td>1974 Arbaz</td>\n",
              "      <td>Commerce et distribution de vêtements et produ...</td>\n",
              "      <td>no data</td>\n",
              "      <td>no data</td>\n",
              "      <td>no data</td>\n",
              "      <td>2025-01-08</td>\n",
              "    </tr>\n",
              "    <tr>\n",
              "      <th>3</th>\n",
              "      <td>e4d591b0-1cd8-4284-a55e-624208b3e4c2</td>\n",
              "      <td>Deletion</td>\n",
              "      <td>fr</td>\n",
              "      <td>2025-01-13</td>\n",
              "      <td>no data</td>\n",
              "      <td>GE</td>\n",
              "      <td>Deletion BIOCAL, titulaire PIOT, Genève</td>\n",
              "      <td>2025-01-08</td>\n",
              "      <td>BIOCAL, titulaire PIOT, à Genève, CHE-381.997....</td>\n",
              "      <td>BIOCAL, titulaire PIOT</td>\n",
              "      <td>...</td>\n",
              "      <td>CH66018110248</td>\n",
              "      <td>Genève</td>\n",
              "      <td>0101</td>\n",
              "      <td>Boulevard Carl-Vogt 53</td>\n",
              "      <td>1205 Genève</td>\n",
              "      <td>la transformation, le commerce et le service d...</td>\n",
              "      <td>no data</td>\n",
              "      <td>no data</td>\n",
              "      <td>no data</td>\n",
              "      <td>2025-01-08</td>\n",
              "    </tr>\n",
              "    <tr>\n",
              "      <th>4</th>\n",
              "      <td>6596eb57-1297-4535-b615-edbc31ac0f43</td>\n",
              "      <td>Change</td>\n",
              "      <td>fr</td>\n",
              "      <td>2025-01-13</td>\n",
              "      <td>La mutation de l'entité juridique mentionnée a...</td>\n",
              "      <td>GE</td>\n",
              "      <td>Change Christian GUINCHARD SA, Genève, new Bernex</td>\n",
              "      <td>2025-01-08</td>\n",
              "      <td>Christian GUINCHARD SA, à Genève, CHE-108.016....</td>\n",
              "      <td>Christian GUINCHARD SA</td>\n",
              "      <td>...</td>\n",
              "      <td>CH66014299981</td>\n",
              "      <td>Bernex</td>\n",
              "      <td>0106</td>\n",
              "      <td>Chemin de Saule 134</td>\n",
              "      <td>1233 Bernex</td>\n",
              "      <td>vente, conseil, assistance, expertise, locatio...</td>\n",
              "      <td>400000.00</td>\n",
              "      <td>400000.00</td>\n",
              "      <td>false</td>\n",
              "      <td>no data</td>\n",
              "    </tr>\n",
              "    <tr>\n",
              "      <th>5</th>\n",
              "      <td>fc425468-72e5-4898-9181-11e803839542</td>\n",
              "      <td>Change</td>\n",
              "      <td>fr</td>\n",
              "      <td>2025-01-13</td>\n",
              "      <td>La mutation de l'entité juridique mentionnée a...</td>\n",
              "      <td>GE</td>\n",
              "      <td>Change EGCR SA, Carouge (GE)</td>\n",
              "      <td>2025-01-08</td>\n",
              "      <td>EGCR SA, à Carouge (GE), CHE-333.372.496 (FOSC...</td>\n",
              "      <td>EGCR SA</td>\n",
              "      <td>...</td>\n",
              "      <td>CH66037890199</td>\n",
              "      <td>Carouge (GE)</td>\n",
              "      <td>0106</td>\n",
              "      <td>Chemin du Faubourg-de-Cruseilles 14</td>\n",
              "      <td>1227 Carouge GE</td>\n",
              "      <td>exploitation d'une entreprise générale, rénova...</td>\n",
              "      <td>100000.00</td>\n",
              "      <td>100000.00</td>\n",
              "      <td>false</td>\n",
              "      <td>no data</td>\n",
              "    </tr>\n",
              "    <tr>\n",
              "      <th>6</th>\n",
              "      <td>0818ec88-fa52-4087-8444-2210579dcde9</td>\n",
              "      <td>Change</td>\n",
              "      <td>fr</td>\n",
              "      <td>2025-01-13</td>\n",
              "      <td>La mutation de l'entité juridique mentionnée a...</td>\n",
              "      <td>GE</td>\n",
              "      <td>Change Mavala SA, Carouge (GE)</td>\n",
              "      <td>2025-01-08</td>\n",
              "      <td>Mavala SA, à Carouge (GE), CHE-107.741.977 (FO...</td>\n",
              "      <td>Mavala SA</td>\n",
              "      <td>...</td>\n",
              "      <td>CH66001739618</td>\n",
              "      <td>Carouge (GE)</td>\n",
              "      <td>0106</td>\n",
              "      <td>rue Antoine-Jolivet 2</td>\n",
              "      <td>1227 Carouge (GE)</td>\n",
              "      <td>commerce et fabrication de produits cosmétique...</td>\n",
              "      <td>1750000.00</td>\n",
              "      <td>1750000.00</td>\n",
              "      <td>false</td>\n",
              "      <td>no data</td>\n",
              "    </tr>\n",
              "    <tr>\n",
              "      <th>7</th>\n",
              "      <td>8798dcef-0fda-46d9-a04f-eb3fa7e17cef</td>\n",
              "      <td>Change</td>\n",
              "      <td>fr</td>\n",
              "      <td>2025-01-13</td>\n",
              "      <td>La mutation de l'entité juridique mentionnée a...</td>\n",
              "      <td>GE</td>\n",
              "      <td>Change Itcos SA, Genève</td>\n",
              "      <td>2025-01-08</td>\n",
              "      <td>Itcos SA, à Genève, CHE-103.137.191 (FOSC du 2...</td>\n",
              "      <td>Itcos SA</td>\n",
              "      <td>...</td>\n",
              "      <td>CH66002439800</td>\n",
              "      <td>Genève</td>\n",
              "      <td>0106</td>\n",
              "      <td>place de Saint-Gervais 1</td>\n",
              "      <td>1201 Genève</td>\n",
              "      <td>toute activité entrant dans le cadre d'une soc...</td>\n",
              "      <td>100000.00</td>\n",
              "      <td>100000.00</td>\n",
              "      <td>false</td>\n",
              "      <td>no data</td>\n",
              "    </tr>\n",
              "    <tr>\n",
              "      <th>8</th>\n",
              "      <td>c0ab7e87-e17b-4a8f-a6df-4949af512a37</td>\n",
              "      <td>Deletion</td>\n",
              "      <td>fr</td>\n",
              "      <td>2025-01-13</td>\n",
              "      <td>no data</td>\n",
              "      <td>GE</td>\n",
              "      <td>Deletion GRISONI, LACROIX, FLEURY SA, en liqui...</td>\n",
              "      <td>2025-01-08</td>\n",
              "      <td>GRISONI, LACROIX, FLEURY SA, en liquidation, à...</td>\n",
              "      <td>GRISONI, LACROIX, FLEURY SA, en liquidation</td>\n",
              "      <td>...</td>\n",
              "      <td>CH66002149996</td>\n",
              "      <td>Versoix</td>\n",
              "      <td>0106</td>\n",
              "      <td>route de Sauverny 230</td>\n",
              "      <td>1290 Versoix</td>\n",
              "      <td>exploitation d'une entreprise générale du bâti...</td>\n",
              "      <td>100000.00</td>\n",
              "      <td>100000.00</td>\n",
              "      <td>no data</td>\n",
              "      <td>2025-01-08</td>\n",
              "    </tr>\n",
              "    <tr>\n",
              "      <th>9</th>\n",
              "      <td>89765f67-f915-41d5-8e31-c59992e4cb2d</td>\n",
              "      <td>Deletion</td>\n",
              "      <td>fr</td>\n",
              "      <td>2025-01-13</td>\n",
              "      <td>no data</td>\n",
              "      <td>GE</td>\n",
              "      <td>Deletion Rodrigues Vicente, Jardinage, Choulex</td>\n",
              "      <td>2025-01-08</td>\n",
              "      <td>Rodrigues Vicente, Jardinage, à Choulex, CHE-1...</td>\n",
              "      <td>Rodrigues Vicente, Jardinage</td>\n",
              "      <td>...</td>\n",
              "      <td>CH66007450160</td>\n",
              "      <td>Choulex</td>\n",
              "      <td>0101</td>\n",
              "      <td>Route des Jurets 39</td>\n",
              "      <td>1244 Choulex</td>\n",
              "      <td>paysagiste, création et entretien des espaces ...</td>\n",
              "      <td>no data</td>\n",
              "      <td>no data</td>\n",
              "      <td>no data</td>\n",
              "      <td>2025-01-08</td>\n",
              "    </tr>\n",
              "  </tbody>\n",
              "</table>\n",
              "<p>10 rows × 21 columns</p>\n",
              "</div>"
            ],
            "text/plain": [
              "                                     id entryType language publicationDate  \\\n",
              "0  40d64a9e-e70c-4f17-b022-59ae0690f155  Deletion       fr      2025-01-13   \n",
              "1  d341fee7-5dd9-4507-ba53-f6b08df9be5b  Deletion       fr      2025-01-13   \n",
              "2  7403ed4c-3dab-4366-922a-de81d6e85d19  Deletion       fr      2025-01-13   \n",
              "3  e4d591b0-1cd8-4284-a55e-624208b3e4c2  Deletion       fr      2025-01-13   \n",
              "4  6596eb57-1297-4535-b615-edbc31ac0f43    Change       fr      2025-01-13   \n",
              "5  fc425468-72e5-4898-9181-11e803839542    Change       fr      2025-01-13   \n",
              "6  0818ec88-fa52-4087-8444-2210579dcde9    Change       fr      2025-01-13   \n",
              "7  8798dcef-0fda-46d9-a04f-eb3fa7e17cef    Change       fr      2025-01-13   \n",
              "8  c0ab7e87-e17b-4a8f-a6df-4949af512a37  Deletion       fr      2025-01-13   \n",
              "9  89765f67-f915-41d5-8e31-c59992e4cb2d  Deletion       fr      2025-01-13   \n",
              "\n",
              "                                         legalRemedy cantons  \\\n",
              "0                                            no data      GE   \n",
              "1                                            no data      VS   \n",
              "2                                            no data      VS   \n",
              "3                                            no data      GE   \n",
              "4  La mutation de l'entité juridique mentionnée a...      GE   \n",
              "5  La mutation de l'entité juridique mentionnée a...      GE   \n",
              "6  La mutation de l'entité juridique mentionnée a...      GE   \n",
              "7  La mutation de l'entité juridique mentionnée a...      GE   \n",
              "8                                            no data      GE   \n",
              "9                                            no data      GE   \n",
              "\n",
              "                                            title_en journal_date  \\\n",
              "0   Deletion FINDERS SA succursale de Genève, Genève   2025-01-08   \n",
              "1  Deletion Intermarché Morgins, Didier Touillet,...   2025-01-08   \n",
              "2  Deletion P.A.D, Phillipe Aubert Distribution, ...   2025-01-08   \n",
              "3            Deletion BIOCAL, titulaire PIOT, Genève   2025-01-08   \n",
              "4  Change Christian GUINCHARD SA, Genève, new Bernex   2025-01-08   \n",
              "5                       Change EGCR SA, Carouge (GE)   2025-01-08   \n",
              "6                     Change Mavala SA, Carouge (GE)   2025-01-08   \n",
              "7                            Change Itcos SA, Genève   2025-01-08   \n",
              "8  Deletion GRISONI, LACROIX, FLEURY SA, en liqui...   2025-01-08   \n",
              "9     Deletion Rodrigues Vicente, Jardinage, Choulex   2025-01-08   \n",
              "\n",
              "                                    publication_text  \\\n",
              "0  FINDERS SA succursale de Genève, à Genève, CHE...   \n",
              "1  Intermarché Morgins, Didier Touillet, à Troist...   \n",
              "2  P.A.D, Phillipe Aubert Distribution, à Arbaz, ...   \n",
              "3  BIOCAL, titulaire PIOT, à Genève, CHE-381.997....   \n",
              "4  Christian GUINCHARD SA, à Genève, CHE-108.016....   \n",
              "5  EGCR SA, à Carouge (GE), CHE-333.372.496 (FOSC...   \n",
              "6  Mavala SA, à Carouge (GE), CHE-107.741.977 (FO...   \n",
              "7  Itcos SA, à Genève, CHE-103.137.191 (FOSC du 2...   \n",
              "8  GRISONI, LACROIX, FLEURY SA, en liquidation, à...   \n",
              "9  Rodrigues Vicente, Jardinage, à Choulex, CHE-1...   \n",
              "\n",
              "                                  company_name  ... company_code13  \\\n",
              "0              FINDERS SA succursale de Genève  ...  CH66012909977   \n",
              "1         Intermarché Morgins, Didier Touillet  ...  CH62110015528   \n",
              "2          P.A.D, Phillipe Aubert Distribution  ...  CH55011069836   \n",
              "3                       BIOCAL, titulaire PIOT  ...  CH66018110248   \n",
              "4                       Christian GUINCHARD SA  ...  CH66014299981   \n",
              "5                                      EGCR SA  ...  CH66037890199   \n",
              "6                                    Mavala SA  ...  CH66001739618   \n",
              "7                                     Itcos SA  ...  CH66002439800   \n",
              "8  GRISONI, LACROIX, FLEURY SA, en liquidation  ...  CH66002149996   \n",
              "9                 Rodrigues Vicente, Jardinage  ...  CH66007450160   \n",
              "\n",
              "    company_seat company_legalForm            company_street_and_number  \\\n",
              "0         Genève              0151                     rue du Port 8-10   \n",
              "1  Troistorrents              0101                   Route du Village 8   \n",
              "2          Arbaz              0101          Route de Grand-Pro Barra 19   \n",
              "3         Genève              0101               Boulevard Carl-Vogt 53   \n",
              "4         Bernex              0106                  Chemin de Saule 134   \n",
              "5   Carouge (GE)              0106  Chemin du Faubourg-de-Cruseilles 14   \n",
              "6   Carouge (GE)              0106                rue Antoine-Jolivet 2   \n",
              "7         Genève              0106             place de Saint-Gervais 1   \n",
              "8        Versoix              0106                route de Sauverny 230   \n",
              "9        Choulex              0101                  Route des Jurets 39   \n",
              "\n",
              "  company_zip_and_town                                    company_purpose  \\\n",
              "0          1204 Genève  recherche et sélection de personnel administra...   \n",
              "1         1875 Morgins  exploitation d'un magasin d'alimentation générale   \n",
              "2           1974 Arbaz  Commerce et distribution de vêtements et produ...   \n",
              "3          1205 Genève  la transformation, le commerce et le service d...   \n",
              "4          1233 Bernex  vente, conseil, assistance, expertise, locatio...   \n",
              "5      1227 Carouge GE  exploitation d'une entreprise générale, rénova...   \n",
              "6    1227 Carouge (GE)  commerce et fabrication de produits cosmétique...   \n",
              "7          1201 Genève  toute activité entrant dans le cadre d'une soc...   \n",
              "8         1290 Versoix  exploitation d'une entreprise générale du bâti...   \n",
              "9         1244 Choulex  paysagiste, création et entretien des espaces ...   \n",
              "\n",
              "  company_capital_nominal company_capital_paid company_optingout  \\\n",
              "0                 no data              no data           no data   \n",
              "1                 no data              no data           no data   \n",
              "2                 no data              no data           no data   \n",
              "3                 no data              no data           no data   \n",
              "4               400000.00            400000.00             false   \n",
              "5               100000.00            100000.00             false   \n",
              "6              1750000.00           1750000.00             false   \n",
              "7               100000.00            100000.00             false   \n",
              "8               100000.00            100000.00           no data   \n",
              "9                 no data              no data           no data   \n",
              "\n",
              "  company_deletiondate  \n",
              "0           2025-01-08  \n",
              "1           2025-01-08  \n",
              "2           2025-01-08  \n",
              "3           2025-01-08  \n",
              "4              no data  \n",
              "5              no data  \n",
              "6              no data  \n",
              "7              no data  \n",
              "8           2025-01-08  \n",
              "9           2025-01-08  \n",
              "\n",
              "[10 rows x 21 columns]"
            ]
          },
          "execution_count": 9,
          "metadata": {},
          "output_type": "execute_result"
        }
      ],
      "source": [
        "df_content.head(10)"
      ]
    },
    {
      "cell_type": "markdown",
      "metadata": {},
      "source": [
        "DataFrame Summary"
      ]
    },
    {
      "cell_type": "code",
      "execution_count": 10,
      "metadata": {},
      "outputs": [
        {
          "name": "stdout",
          "output_type": "stream",
          "text": [
            "<class 'pandas.core.frame.DataFrame'>\n",
            "RangeIndex: 1266 entries, 0 to 1265\n",
            "Data columns (total 21 columns):\n",
            " #   Column                     Non-Null Count  Dtype \n",
            "---  ------                     --------------  ----- \n",
            " 0   id                         1266 non-null   object\n",
            " 1   entryType                  1266 non-null   object\n",
            " 2   language                   1266 non-null   object\n",
            " 3   publicationDate            1266 non-null   object\n",
            " 4   legalRemedy                1266 non-null   object\n",
            " 5   cantons                    1266 non-null   object\n",
            " 6   title_en                   1266 non-null   object\n",
            " 7   journal_date               1266 non-null   object\n",
            " 8   publication_text           1266 non-null   object\n",
            " 9   company_name               1266 non-null   object\n",
            " 10  company_uid                1266 non-null   object\n",
            " 11  company_code13             1266 non-null   object\n",
            " 12  company_seat               1266 non-null   object\n",
            " 13  company_legalForm          1266 non-null   object\n",
            " 14  company_street_and_number  1266 non-null   object\n",
            " 15  company_zip_and_town       1266 non-null   object\n",
            " 16  company_purpose            1266 non-null   object\n",
            " 17  company_capital_nominal    1266 non-null   object\n",
            " 18  company_capital_paid       1266 non-null   object\n",
            " 19  company_optingout          1266 non-null   object\n",
            " 20  company_deletiondate       1266 non-null   object\n",
            "dtypes: object(21)\n",
            "memory usage: 207.8+ KB\n"
          ]
        }
      ],
      "source": [
        "df_content.info()"
      ]
    },
    {
      "cell_type": "markdown",
      "metadata": {},
      "source": [
        "We want to check if there are duplicated `id`: There are not."
      ]
    },
    {
      "cell_type": "code",
      "execution_count": 11,
      "metadata": {},
      "outputs": [
        {
          "data": {
            "text/html": [
              "<div>\n",
              "<style scoped>\n",
              "    .dataframe tbody tr th:only-of-type {\n",
              "        vertical-align: middle;\n",
              "    }\n",
              "\n",
              "    .dataframe tbody tr th {\n",
              "        vertical-align: top;\n",
              "    }\n",
              "\n",
              "    .dataframe thead th {\n",
              "        text-align: right;\n",
              "    }\n",
              "</style>\n",
              "<table border=\"1\" class=\"dataframe\">\n",
              "  <thead>\n",
              "    <tr style=\"text-align: right;\">\n",
              "      <th></th>\n",
              "      <th>id</th>\n",
              "      <th>entryType</th>\n",
              "      <th>language</th>\n",
              "      <th>publicationDate</th>\n",
              "      <th>legalRemedy</th>\n",
              "      <th>cantons</th>\n",
              "      <th>title_en</th>\n",
              "      <th>journal_date</th>\n",
              "      <th>publication_text</th>\n",
              "      <th>company_name</th>\n",
              "      <th>...</th>\n",
              "      <th>company_code13</th>\n",
              "      <th>company_seat</th>\n",
              "      <th>company_legalForm</th>\n",
              "      <th>company_street_and_number</th>\n",
              "      <th>company_zip_and_town</th>\n",
              "      <th>company_purpose</th>\n",
              "      <th>company_capital_nominal</th>\n",
              "      <th>company_capital_paid</th>\n",
              "      <th>company_optingout</th>\n",
              "      <th>company_deletiondate</th>\n",
              "    </tr>\n",
              "  </thead>\n",
              "  <tbody>\n",
              "  </tbody>\n",
              "</table>\n",
              "<p>0 rows × 21 columns</p>\n",
              "</div>"
            ],
            "text/plain": [
              "Empty DataFrame\n",
              "Columns: [id, entryType, language, publicationDate, legalRemedy, cantons, title_en, journal_date, publication_text, company_name, company_uid, company_code13, company_seat, company_legalForm, company_street_and_number, company_zip_and_town, company_purpose, company_capital_nominal, company_capital_paid, company_optingout, company_deletiondate]\n",
              "Index: []\n",
              "\n",
              "[0 rows x 21 columns]"
            ]
          },
          "execution_count": 11,
          "metadata": {},
          "output_type": "execute_result"
        }
      ],
      "source": [
        "df_content[df_content.duplicated(subset=['id'])]"
      ]
    },
    {
      "cell_type": "markdown",
      "metadata": {},
      "source": [
        "Find missing values"
      ]
    },
    {
      "cell_type": "code",
      "execution_count": 12,
      "metadata": {},
      "outputs": [
        {
          "data": {
            "text/plain": [
              "id                           0\n",
              "entryType                    0\n",
              "language                     0\n",
              "publicationDate              0\n",
              "legalRemedy                  0\n",
              "cantons                      0\n",
              "title_en                     0\n",
              "journal_date                 0\n",
              "publication_text             0\n",
              "company_name                 0\n",
              "company_uid                  0\n",
              "company_code13               0\n",
              "company_seat                 0\n",
              "company_legalForm            0\n",
              "company_street_and_number    0\n",
              "company_zip_and_town         0\n",
              "company_purpose              0\n",
              "company_capital_nominal      0\n",
              "company_capital_paid         0\n",
              "company_optingout            0\n",
              "company_deletiondate         0\n",
              "dtype: int64"
            ]
          },
          "execution_count": 12,
          "metadata": {},
          "output_type": "execute_result"
        }
      ],
      "source": [
        "df_content.isna().sum()"
      ]
    },
    {
      "cell_type": "markdown",
      "metadata": {},
      "source": [
        "Evaluating distribution and shape of a variable with missing data"
      ]
    },
    {
      "cell_type": "code",
      "execution_count": null,
      "metadata": {},
      "outputs": [
        {
          "name": "stdout",
          "output_type": "stream",
          "text": [
            "['HR03']\n"
          ]
        }
      ],
      "source": [
        "#1. Variable containing missing data\n",
        "# missing_data = df_content.columns[df_content.isna().sum() > 0].to_list()\n",
        "# missing_data\n",
        "\n",
        "#2. Exemple of missing data (not missing) in order to understand what to do with missing values\n",
        "# for col in missing_data:\n",
        "#     unique_values = df_content[col].dropna().unique()[:5]\n",
        "#     print(f\"{col}: {unique_values}\\n\")\n",
        "\n",
        "#3. Trying to understand the importance of the missing data, Filter rows where 'xxx' is missing and display the first 5\n",
        "# missing_rows = df_content[df_content['legalRemedy'].isna()]\n",
        "# print(missing_rows.head(5))\n",
        "\n",
        "#4. Print a list of unique missing variable, Filter rows where 'xxx' is missing and get unique 'yyy' values\n",
        "# unique_yyy = df_content[df_content['legalRemedy'].isna()]['subRubric'].unique()\n",
        "# print(unique_yyy)"
      ]
    },
    {
      "cell_type": "markdown",
      "metadata": {},
      "source": [
        "---"
      ]
    },
    {
      "cell_type": "markdown",
      "metadata": {
        "id": "ltNetd085qHf"
      },
      "source": [
        "# Push files to Repo"
      ]
    },
    {
      "cell_type": "markdown",
      "metadata": {},
      "source": [
        "If output .csv file already exist then proceed to check if 'id' already are saved inside of it."
      ]
    },
    {
      "cell_type": "code",
      "execution_count": 13,
      "metadata": {
        "id": "aKlnIozA4eQO",
        "outputId": "fd09bc1f-adb1-4511-f6ce-492a6af570c0"
      },
      "outputs": [
        {
          "name": "stdout",
          "output_type": "stream",
          "text": [
            "Existing publications before append: 6583\n",
            "New publications fetched:             1266\n",
            "Publications discarded (duplicates): 0\n",
            "Publications appended:               1266\n",
            "Total publications after append:     7849\n"
          ]
        }
      ],
      "source": [
        "# Ensure id column is string for reliable comparison\n",
        "df_content[\"id\"] = df_content[\"id\"].astype(str)\n",
        "new_count = len(df_content)\n",
        "\n",
        "if os.path.exists(output_path):\n",
        "    # 1. Load existing IDs\n",
        "    df_existing = pd.read_csv(output_path, usecols=[\"id\"])\n",
        "    df_existing[\"id\"] = df_existing[\"id\"].astype(str)\n",
        "    existing_ids = set(df_existing[\"id\"])\n",
        "    existing_count = len(existing_ids)\n",
        "\n",
        "    # 2. Determine which rows are truly new\n",
        "    mask_new = ~df_content[\"id\"].isin(existing_ids)\n",
        "    df_to_append = df_content[mask_new]\n",
        "    appended_count = len(df_to_append)\n",
        "\n",
        "    # 3. Compute discarded count\n",
        "    discarded_count = new_count - appended_count\n",
        "\n",
        "    # 4. Append new rows if any\n",
        "    if appended_count > 0:\n",
        "        df_to_append.to_csv(output_path, mode=\"a\", header=False, index=False)\n",
        "\n",
        "    # 5. Totals after append\n",
        "    total_after = existing_count + appended_count\n",
        "\n",
        "    # 6. Report to user\n",
        "    print(f\"Existing publications before append: {existing_count}\")\n",
        "    print(f\"New publications fetched:             {new_count}\")\n",
        "    print(f\"Publications discarded (duplicates): {discarded_count}\")\n",
        "    print(f\"Publications appended:               {appended_count}\")\n",
        "    print(f\"Total publications after append:     {total_after}\")\n",
        "\n",
        "else:\n",
        "    # No existing file: write all\n",
        "    df_content.to_csv(output_path, index=False)\n",
        "    print(f\"Existing publications before append: 0\")\n",
        "    print(f\"New publications fetched:            {new_count}\")\n",
        "    print(f\"Publications discarded (duplicates): 0\")\n",
        "    print(f\"Publications appended:               {new_count}\")\n",
        "    print(f\"Total publications after append:     {new_count}\")"
      ]
    },
    {
      "cell_type": "markdown",
      "metadata": {},
      "source": [
        "---"
      ]
    },
    {
      "cell_type": "markdown",
      "metadata": {},
      "source": [
        "# Conclusion and next step"
      ]
    },
    {
      "cell_type": "markdown",
      "metadata": {},
      "source": [
        "We have a clean way to retrieve 'New entries', 'Change', 'Deletion'.\n",
        "\n",
        "The data seems to be coherent. \n",
        "\n",
        "Next step is filling up the streamlit app with graphs and analysis. "
      ]
    }
  ],
  "metadata": {
    "accelerator": "GPU",
    "colab": {
      "name": "Data Practitioner Jupyter Notebook.ipynb",
      "provenance": [],
      "toc_visible": true
    },
    "kernelspec": {
      "display_name": "Python 3",
      "language": "python",
      "name": "python3"
    },
    "language_info": {
      "codemirror_mode": {
        "name": "ipython",
        "version": 3
      },
      "file_extension": ".py",
      "mimetype": "text/x-python",
      "name": "python",
      "nbconvert_exporter": "python",
      "pygments_lexer": "ipython3",
      "version": "3.10.12"
    },
    "orig_nbformat": 2
  },
  "nbformat": 4,
  "nbformat_minor": 2
}
