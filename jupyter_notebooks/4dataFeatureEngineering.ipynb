{
 "cells": [
  {
   "cell_type": "markdown",
   "metadata": {},
   "source": [
    "Data is cleaned but it is imbalanced, then use SMOTE in the pipline see page 37 of 8_EDA_notes"
   ]
  }
 ],
 "metadata": {
  "language_info": {
   "name": "python"
  }
 },
 "nbformat": 4,
 "nbformat_minor": 2
}
