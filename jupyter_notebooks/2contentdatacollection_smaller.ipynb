{
  "cells": [
    {
      "cell_type": "markdown",
      "metadata": {
        "id": "0aStgWSO0E0E"
      },
      "source": [
        "# **CONTENTDATA COLLECTION NOTEBOOK**"
      ]
    },
    {
      "cell_type": "markdown",
      "metadata": {
        "id": "1eLEkw5O0ECa"
      },
      "source": [
        "## Objectives\n",
        "\n",
        "* Use inputs/metadata/gazette_metadata_jupyter.csv to fetch further informations.\n",
        "\n",
        "## Inputs\n",
        "\n",
        "* inputs/metadata/gazette_metadata_jupyter.csv\n",
        "\n",
        "## Outputs\n",
        "\n",
        "* The output data is a csv file called inputs/contentdata/gazette_contentdata_jupyter.csv\n",
        "\n",
        "## Additional Comments\n",
        "\n",
        "* ...\n"
      ]
    },
    {
      "cell_type": "markdown",
      "metadata": {
        "id": "9uWZXH9LwoQg"
      },
      "source": [
        "---"
      ]
    },
    {
      "cell_type": "markdown",
      "metadata": {},
      "source": [
        "# Install python packages in the notebooks"
      ]
    },
    {
      "cell_type": "code",
      "execution_count": 1,
      "metadata": {},
      "outputs": [
        {
          "name": "stdout",
          "output_type": "stream",
          "text": [
            "Defaulting to user installation because normal site-packages is not writeable\n",
            "Requirement already satisfied: requests in /workspace/.pyenv_mirror/user/current/lib/python3.10/site-packages (2.32.3)\n",
            "Requirement already satisfied: xmltodict in /workspace/.pyenv_mirror/user/current/lib/python3.10/site-packages (0.14.2)\n",
            "Requirement already satisfied: psycopg2-binary in /workspace/.pyenv_mirror/user/current/lib/python3.10/site-packages (2.9.10)\n",
            "Requirement already satisfied: pandas in /workspace/.pyenv_mirror/user/current/lib/python3.10/site-packages (2.2.3)\n",
            "Requirement already satisfied: idna<4,>=2.5 in /workspace/.pyenv_mirror/user/current/lib/python3.10/site-packages (from requests) (3.10)\n",
            "Requirement already satisfied: urllib3<3,>=1.21.1 in /workspace/.pyenv_mirror/user/current/lib/python3.10/site-packages (from requests) (2.4.0)\n",
            "Requirement already satisfied: certifi>=2017.4.17 in /workspace/.pyenv_mirror/user/current/lib/python3.10/site-packages (from requests) (2025.4.26)\n",
            "Requirement already satisfied: charset-normalizer<4,>=2 in /workspace/.pyenv_mirror/user/current/lib/python3.10/site-packages (from requests) (3.4.2)\n",
            "Requirement already satisfied: numpy>=1.22.4 in /workspace/.pyenv_mirror/user/current/lib/python3.10/site-packages (from pandas) (2.2.6)\n",
            "Requirement already satisfied: tzdata>=2022.7 in /workspace/.pyenv_mirror/user/current/lib/python3.10/site-packages (from pandas) (2025.2)\n",
            "Requirement already satisfied: python-dateutil>=2.8.2 in /workspace/.pyenv_mirror/user/current/lib/python3.10/site-packages (from pandas) (2.9.0.post0)\n",
            "Requirement already satisfied: pytz>=2020.1 in /workspace/.pyenv_mirror/user/current/lib/python3.10/site-packages (from pandas) (2025.2)\n",
            "Requirement already satisfied: six>=1.5 in /usr/lib/python3/dist-packages (from python-dateutil>=2.8.2->pandas) (1.16.0)\n",
            "Note: you may need to restart the kernel to use updated packages.\n"
          ]
        }
      ],
      "source": [
        "%pip install requests xmltodict psycopg2-binary pandas"
      ]
    },
    {
      "cell_type": "markdown",
      "metadata": {},
      "source": [
        "---"
      ]
    },
    {
      "cell_type": "markdown",
      "metadata": {
        "id": "cqP-UeN-z3i2"
      },
      "source": [
        "# Change working directory"
      ]
    },
    {
      "cell_type": "markdown",
      "metadata": {},
      "source": [
        "* Storing the notebooks in a subfolder, therefore we change the working directory from its current folder to its parent folder"
      ]
    },
    {
      "cell_type": "markdown",
      "metadata": {
        "id": "aOGIGS-uz3i2"
      },
      "source": [
        "* We access the current directory with os.getcwd()"
      ]
    },
    {
      "cell_type": "code",
      "execution_count": 1,
      "metadata": {
        "id": "wZfF_j-Bz3i4",
        "outputId": "66943449-1436-4c3d-85c7-b85f9f78349b"
      },
      "outputs": [
        {
          "data": {
            "text/plain": [
              "'/workspace/GazetteAnaliticsTools/jupyter_notebooks'"
            ]
          },
          "execution_count": 1,
          "metadata": {},
          "output_type": "execute_result"
        }
      ],
      "source": [
        "import os\n",
        "current_dir = os.getcwd()\n",
        "current_dir"
      ]
    },
    {
      "cell_type": "markdown",
      "metadata": {
        "id": "9MWW8E7lz3i7"
      },
      "source": [
        "We want to make the parent of the current directory the new current directory\n",
        "* os.path.dirname() gets the parent directory\n",
        "* os.chir() defines the new current directory"
      ]
    },
    {
      "cell_type": "code",
      "execution_count": 2,
      "metadata": {
        "id": "TwHsQRWjz3i9",
        "outputId": "86849db3-cd2f-4cc5-ebb8-2d0caafa1a2c"
      },
      "outputs": [
        {
          "name": "stdout",
          "output_type": "stream",
          "text": [
            "You set a new current directory\n"
          ]
        }
      ],
      "source": [
        "os.chdir(os.path.dirname(current_dir))\n",
        "print(\"You set a new current directory\")"
      ]
    },
    {
      "cell_type": "markdown",
      "metadata": {
        "id": "M_xPk_Ijz3i-"
      },
      "source": [
        "Confirm the new current directory"
      ]
    },
    {
      "cell_type": "code",
      "execution_count": 3,
      "metadata": {
        "id": "vz3S-_kjz3jA",
        "outputId": "00b79ae4-75d0-4a96-d193-ac9ef9847ea2"
      },
      "outputs": [
        {
          "data": {
            "text/plain": [
              "'/workspace/GazetteAnaliticsTools'"
            ]
          },
          "execution_count": 3,
          "metadata": {},
          "output_type": "execute_result"
        }
      ],
      "source": [
        "current_dir = os.getcwd()\n",
        "current_dir"
      ]
    },
    {
      "cell_type": "markdown",
      "metadata": {},
      "source": [
        "---"
      ]
    },
    {
      "cell_type": "markdown",
      "metadata": {
        "id": "-mavJ8DibrcQ"
      },
      "source": [
        "# Fetch data from the Gazette API"
      ]
    },
    {
      "cell_type": "markdown",
      "metadata": {},
      "source": [
        "### Some imports:\n",
        "* os: for reading environment variables (e.g. your PG_DSN)\n",
        "* datetime: to compute today’s date\n",
        "* uuid: to generate UUIDs for new records\n",
        "* json: to serialize raw metadata into JSONB\n",
        "* requests: to call the Gazette API\n",
        "* xmltodict: to convert the XML response into Python dicts\n",
        "* psycopg2 / psycopg2.extras.execute_values: to connect and bulk-upsert into PostgreSQL"
      ]
    },
    {
      "cell_type": "code",
      "execution_count": 4,
      "metadata": {},
      "outputs": [],
      "source": [
        "# 1. Imports Standard library\n",
        "import os, datetime, uuid, json\n",
        "# 2. Imports HTTP + XML parsing\n",
        "import requests, xmltodict\n",
        "# 3. Imports PostgreSQL driver\n",
        "import psycopg2\n",
        "from psycopg2.extras import execute_values\n",
        "# 4. Imports Pandas for data analysis\n",
        "import pandas as pd\n",
        "# 5. Imports math for dividing\n",
        "import math"
      ]
    },
    {
      "cell_type": "markdown",
      "metadata": {},
      "source": [
        "### Fetch list of today's metadata.csv"
      ]
    },
    {
      "cell_type": "code",
      "execution_count": 5,
      "metadata": {},
      "outputs": [
        {
          "data": {
            "text/html": [
              "<div>\n",
              "<style scoped>\n",
              "    .dataframe tbody tr th:only-of-type {\n",
              "        vertical-align: middle;\n",
              "    }\n",
              "\n",
              "    .dataframe tbody tr th {\n",
              "        vertical-align: top;\n",
              "    }\n",
              "\n",
              "    .dataframe thead th {\n",
              "        text-align: right;\n",
              "    }\n",
              "</style>\n",
              "<table border=\"1\" class=\"dataframe\">\n",
              "  <thead>\n",
              "    <tr style=\"text-align: right;\">\n",
              "      <th></th>\n",
              "      <th>ref</th>\n",
              "      <th>schemaLocation</th>\n",
              "      <th>id</th>\n",
              "      <th>subRubric</th>\n",
              "      <th>publicationDate</th>\n",
              "      <th>legalRemedy</th>\n",
              "      <th>title_en</th>\n",
              "      <th>entryType</th>\n",
              "    </tr>\n",
              "  </thead>\n",
              "  <tbody>\n",
              "    <tr>\n",
              "      <th>0</th>\n",
              "      <td>https://amtsblattportal.ch/api/v1/publications...</td>\n",
              "      <td>https://amtsblattportal.ch/api/v1/schemas/shab...</td>\n",
              "      <td>4f614e43-c3e7-4df5-805f-4574ae3eabdc</td>\n",
              "      <td>HR03</td>\n",
              "      <td>2025-01-15</td>\n",
              "      <td>NaN</td>\n",
              "      <td>Deletion Société coopérative de la Guinguette ...</td>\n",
              "      <td>Deletion</td>\n",
              "    </tr>\n",
              "    <tr>\n",
              "      <th>1</th>\n",
              "      <td>https://amtsblattportal.ch/api/v1/publications...</td>\n",
              "      <td>https://amtsblattportal.ch/api/v1/schemas/shab...</td>\n",
              "      <td>e8608e46-d33e-4224-803f-d5d0cb6136bc</td>\n",
              "      <td>HR03</td>\n",
              "      <td>2025-01-15</td>\n",
              "      <td>NaN</td>\n",
              "      <td>Deletion DENTAMINA AG in Liquidation, Bad Ragaz</td>\n",
              "      <td>Deletion</td>\n",
              "    </tr>\n",
              "    <tr>\n",
              "      <th>2</th>\n",
              "      <td>https://amtsblattportal.ch/api/v1/publications...</td>\n",
              "      <td>https://amtsblattportal.ch/api/v1/schemas/shab...</td>\n",
              "      <td>76a76b6a-7cc8-4378-b9f4-4c444315c931</td>\n",
              "      <td>HR03</td>\n",
              "      <td>2025-01-15</td>\n",
              "      <td>NaN</td>\n",
              "      <td>Deletion schwarz logistics engineering, Reinac...</td>\n",
              "      <td>Deletion</td>\n",
              "    </tr>\n",
              "  </tbody>\n",
              "</table>\n",
              "</div>"
            ],
            "text/plain": [
              "                                                 ref  \\\n",
              "0  https://amtsblattportal.ch/api/v1/publications...   \n",
              "1  https://amtsblattportal.ch/api/v1/publications...   \n",
              "2  https://amtsblattportal.ch/api/v1/publications...   \n",
              "\n",
              "                                      schemaLocation  \\\n",
              "0  https://amtsblattportal.ch/api/v1/schemas/shab...   \n",
              "1  https://amtsblattportal.ch/api/v1/schemas/shab...   \n",
              "2  https://amtsblattportal.ch/api/v1/schemas/shab...   \n",
              "\n",
              "                                     id subRubric publicationDate legalRemedy  \\\n",
              "0  4f614e43-c3e7-4df5-805f-4574ae3eabdc      HR03      2025-01-15         NaN   \n",
              "1  e8608e46-d33e-4224-803f-d5d0cb6136bc      HR03      2025-01-15         NaN   \n",
              "2  76a76b6a-7cc8-4378-b9f4-4c444315c931      HR03      2025-01-15         NaN   \n",
              "\n",
              "                                            title_en entryType  \n",
              "0  Deletion Société coopérative de la Guinguette ...  Deletion  \n",
              "1    Deletion DENTAMINA AG in Liquidation, Bad Ragaz  Deletion  \n",
              "2  Deletion schwarz logistics engineering, Reinac...  Deletion  "
            ]
          },
          "execution_count": 5,
          "metadata": {},
          "output_type": "execute_result"
        }
      ],
      "source": [
        "# Fetch today's metadata\n",
        "df_meta = pd.read_csv(\"inputs/metadata/gazette_metadata_jupyter.csv\")\n",
        "df_meta.head(3)"
      ]
    },
    {
      "cell_type": "markdown",
      "metadata": {},
      "source": [
        "### Fetch all ref.xml for each metadata entry & Transform into flat rows"
      ]
    },
    {
      "cell_type": "code",
      "execution_count": 6,
      "metadata": {},
      "outputs": [],
      "source": [
        "#1. Paths\n",
        "input_path  = \"inputs/metadata/gazette_metadata_jupyter.csv\"\n",
        "\n",
        "#2. Load previous CSV of refs\n",
        "references = df_meta[\"ref\"].dropna().unique().tolist()\n",
        "\n",
        "#3. Deviding into 2 batches\n",
        "n = len(references)\n",
        "half = math.ceil(n / 2)\n",
        "\n",
        "first_batch  = references[:half]\n",
        "second_batch = references[half:]\n",
        "\n",
        "#4. Define the mapping for subRubric -> entryType\n",
        "rubric_map = {\n",
        "    \"HR01\": \"New entries\",\n",
        "    \"HR02\": \"Change\",\n",
        "    \"HR03\": \"Deletion\"\n",
        "}\n",
        "\n",
        "#5. Build the rows, and replace subRubric with entryType\n",
        "def process_batch(batch):\n",
        "    rows = []\n",
        "    for ref_url in batch:\n",
        "        # Fetch & parse XML\n",
        "        resp = requests.get(ref_url)\n",
        "        resp.raise_for_status()\n",
        "        data = xmltodict.parse(resp.text)\n",
        "        # Find the <publication> root key (namespace-agnostic) so that if <HR01:publication...> changes the code don't break\n",
        "        root_key = next((k for k in data if k.endswith(\"publication\")), None)\n",
        "        pub      = data[root_key] if root_key else {}\n",
        "        \n",
        "        meta    = pub.get(\"meta\", {})\n",
        "        content = pub.get(\"content\", {})\n",
        "        sub     = meta.get(\"subRubric\", \"\")\n",
        "\n",
        "        # Build the row\n",
        "        row = {\n",
        "            # -- meta fields --\n",
        "            \"id\":               meta.get(\"id\", \"no data\"),\n",
        "            \"entryType\":        rubric_map.get(sub, \"no data\"),\n",
        "            \"language\":         meta.get(\"language\", \"no data\"),\n",
        "            \"publicationDate\":  meta.get(\"publicationDate\", \"no data\"),\n",
        "            \"legalRemedy\":      meta.get(\"legalRemedy\", \"no data\"),\n",
        "            \"cantons\":      meta.get(\"cantons\", \"no data\"),\n",
        "            \"title_en\":         meta.get(\"title\", {}).get(\"en\", \"no data\"),\n",
        "            # -- content fields --\n",
        "            \"journal_date\":     content.get(\"journalDate\", \"no data\"),\n",
        "            \"publication_text\": content.get(\"publicationText\", \"no data\"),\n",
        "        }\n",
        "        \n",
        "        # -- company / commonsNew --\n",
        "        commons = content.get(\"commonsActual\", {}) if sub == \"HR03\" else content.get(\"commonsNew\", {})\n",
        "        comp    = commons.get(\"company\", {})\n",
        "        addr    = comp.get(\"address\", {})\n",
        "        row.update({\n",
        "            \"company_name\":             comp.get(\"name\", \"no data\"),\n",
        "            \"company_uid\":              comp.get(\"uid\", \"no data\"),\n",
        "            \"company_code13\":           comp.get(\"code13\", \"no data\"),\n",
        "            \"company_seat\":             comp.get(\"seat\", \"no data\"),\n",
        "            \"company_legalForm\":        comp.get(\"legalForm\", \"no data\"),\n",
        "            \"company_street_and_number\": f\"{addr.get('street','no data')} {addr.get('houseNumber','no data')}\",\n",
        "            \"company_zip_and_town\":      f\"{addr.get('swissZipCode','no data')} {addr.get('town','no data')}\",\n",
        "            \"company_purpose\":          commons.get(\"purpose\", \"no data\"),\n",
        "        })\n",
        "        \n",
        "        # -- capital & revision --\n",
        "        cap     = commons.get(\"capital\", {})\n",
        "        revision= commons.get(\"revision\", {})\n",
        "        row.update({\n",
        "            \"company_capital_nominal\": cap.get(\"nominal\", \"no data\"),\n",
        "            \"company_capital_paid\":    cap.get(\"paid\",    \"no data\"),\n",
        "            \"company_optingout\":       revision.get(\"optingOut\", \"no data\"),\n",
        "        })\n",
        "        \n",
        "        # -- deletion date from transaction.delete --\n",
        "        delete  = content.get(\"transaction\", {}).get(\"delete\", {})\n",
        "        row[\"company_deletiondate\"] = delete.get(\"deletionDate\", \"no data\")\n",
        "        \n",
        "        rows.append(row)\n",
        "    return rows"
      ]
    },
    {
      "cell_type": "markdown",
      "metadata": {},
      "source": [
        "First batch"
      ]
    },
    {
      "cell_type": "code",
      "execution_count": 7,
      "metadata": {},
      "outputs": [
        {
          "name": "stdout",
          "output_type": "stream",
          "text": [
            "Processed first batch (637 refs)\n"
          ]
        }
      ],
      "source": [
        "# First run\n",
        "rows1 = process_batch(first_batch)\n",
        "# e.g. save rows1 to CSV or accumulate\n",
        "print(f\"Processed first batch ({len(first_batch)} refs)\")"
      ]
    },
    {
      "cell_type": "markdown",
      "metadata": {},
      "source": [
        "### Save inside new .csv"
      ]
    },
    {
      "cell_type": "code",
      "execution_count": 8,
      "metadata": {},
      "outputs": [],
      "source": [
        "#1. Where to write\n",
        "output_path = \"inputs/contentdata/gazette_contentdata_jupyter.csv\"\n",
        "os.makedirs(os.path.dirname(output_path), exist_ok=True)"
      ]
    },
    {
      "cell_type": "code",
      "execution_count": 9,
      "metadata": {},
      "outputs": [],
      "source": [
        "#7. Dump to CSV (append if exists, otherwise write header)\n",
        "df_content = pd.DataFrame(rows1)"
      ]
    },
    {
      "cell_type": "markdown",
      "metadata": {
        "id": "ZY3l0-AxO93d"
      },
      "source": [
        "---"
      ]
    },
    {
      "cell_type": "markdown",
      "metadata": {
        "id": "uFQo3ycuO-v6"
      },
      "source": [
        "# Inspect meta data"
      ]
    },
    {
      "cell_type": "markdown",
      "metadata": {},
      "source": [
        "Section 2 content"
      ]
    },
    {
      "cell_type": "code",
      "execution_count": 10,
      "metadata": {},
      "outputs": [
        {
          "data": {
            "text/html": [
              "<div>\n",
              "<style scoped>\n",
              "    .dataframe tbody tr th:only-of-type {\n",
              "        vertical-align: middle;\n",
              "    }\n",
              "\n",
              "    .dataframe tbody tr th {\n",
              "        vertical-align: top;\n",
              "    }\n",
              "\n",
              "    .dataframe thead th {\n",
              "        text-align: right;\n",
              "    }\n",
              "</style>\n",
              "<table border=\"1\" class=\"dataframe\">\n",
              "  <thead>\n",
              "    <tr style=\"text-align: right;\">\n",
              "      <th></th>\n",
              "      <th>id</th>\n",
              "      <th>entryType</th>\n",
              "      <th>language</th>\n",
              "      <th>publicationDate</th>\n",
              "      <th>legalRemedy</th>\n",
              "      <th>cantons</th>\n",
              "      <th>title_en</th>\n",
              "      <th>journal_date</th>\n",
              "      <th>publication_text</th>\n",
              "      <th>company_name</th>\n",
              "      <th>...</th>\n",
              "      <th>company_code13</th>\n",
              "      <th>company_seat</th>\n",
              "      <th>company_legalForm</th>\n",
              "      <th>company_street_and_number</th>\n",
              "      <th>company_zip_and_town</th>\n",
              "      <th>company_purpose</th>\n",
              "      <th>company_capital_nominal</th>\n",
              "      <th>company_capital_paid</th>\n",
              "      <th>company_optingout</th>\n",
              "      <th>company_deletiondate</th>\n",
              "    </tr>\n",
              "  </thead>\n",
              "  <tbody>\n",
              "    <tr>\n",
              "      <th>0</th>\n",
              "      <td>4f614e43-c3e7-4df5-805f-4574ae3eabdc</td>\n",
              "      <td>Deletion</td>\n",
              "      <td>fr</td>\n",
              "      <td>2025-01-15</td>\n",
              "      <td>no data</td>\n",
              "      <td>JU</td>\n",
              "      <td>Deletion Société coopérative de la Guinguette ...</td>\n",
              "      <td>2025-01-10</td>\n",
              "      <td>Société coopérative de la Guinguette en liquid...</td>\n",
              "      <td>Société coopérative de la Guinguette en liquid...</td>\n",
              "      <td>...</td>\n",
              "      <td>CH67050089076</td>\n",
              "      <td>Delémont</td>\n",
              "      <td>0108</td>\n",
              "      <td>Route de Bâle 10</td>\n",
              "      <td>2800 Delémont</td>\n",
              "      <td>Soutenir et protéger ses membres; coordonner e...</td>\n",
              "      <td>no data</td>\n",
              "      <td>no data</td>\n",
              "      <td>no data</td>\n",
              "      <td>2025-01-10</td>\n",
              "    </tr>\n",
              "    <tr>\n",
              "      <th>1</th>\n",
              "      <td>e8608e46-d33e-4224-803f-d5d0cb6136bc</td>\n",
              "      <td>Deletion</td>\n",
              "      <td>de</td>\n",
              "      <td>2025-01-15</td>\n",
              "      <td>no data</td>\n",
              "      <td>SG</td>\n",
              "      <td>Deletion DENTAMINA AG in Liquidation, Bad Ragaz</td>\n",
              "      <td>2025-01-10</td>\n",
              "      <td>DENTAMINA AG in Liquidation, in Bad Ragaz, CHE...</td>\n",
              "      <td>DENTAMINA AG in Liquidation</td>\n",
              "      <td>...</td>\n",
              "      <td>CH32030708454</td>\n",
              "      <td>Bad Ragaz</td>\n",
              "      <td>0106</td>\n",
              "      <td>Marausstrasse 3</td>\n",
              "      <td>7310 Bad Ragaz</td>\n",
              "      <td>Führung einer Zahnarztpraxis und Erbringung vo...</td>\n",
              "      <td>100000.00</td>\n",
              "      <td>100000.00</td>\n",
              "      <td>no data</td>\n",
              "      <td>2025-01-10</td>\n",
              "    </tr>\n",
              "    <tr>\n",
              "      <th>2</th>\n",
              "      <td>76a76b6a-7cc8-4378-b9f4-4c444315c931</td>\n",
              "      <td>Deletion</td>\n",
              "      <td>de</td>\n",
              "      <td>2025-01-15</td>\n",
              "      <td>no data</td>\n",
              "      <td>AG</td>\n",
              "      <td>Deletion schwarz logistics engineering, Reinac...</td>\n",
              "      <td>2025-01-10</td>\n",
              "      <td>schwarz logistics engineering, in Reinach (AG)...</td>\n",
              "      <td>schwarz logistics engineering</td>\n",
              "      <td>...</td>\n",
              "      <td>CH40010362385</td>\n",
              "      <td>Reinach (AG)</td>\n",
              "      <td>0101</td>\n",
              "      <td>Tannenrain 9</td>\n",
              "      <td>5734 Reinach AG</td>\n",
              "      <td>Beratung auf dem Gebiet der Logistik, Planung ...</td>\n",
              "      <td>no data</td>\n",
              "      <td>no data</td>\n",
              "      <td>no data</td>\n",
              "      <td>2025-01-10</td>\n",
              "    </tr>\n",
              "    <tr>\n",
              "      <th>3</th>\n",
              "      <td>d8b04ace-8253-44e9-aae2-53434adbb228</td>\n",
              "      <td>Deletion</td>\n",
              "      <td>de</td>\n",
              "      <td>2025-01-15</td>\n",
              "      <td>no data</td>\n",
              "      <td>SH</td>\n",
              "      <td>Deletion Wipf &amp; Co. Immobilien, Lohn (SH)</td>\n",
              "      <td>2025-01-10</td>\n",
              "      <td>Wipf &amp; Co. Immobilien, in Lohn (SH), CHE-101.3...</td>\n",
              "      <td>Wipf &amp; Co. Immobilien</td>\n",
              "      <td>...</td>\n",
              "      <td>CH29020046673</td>\n",
              "      <td>Lohn (SH)</td>\n",
              "      <td>0103</td>\n",
              "      <td>Blattenacker 1</td>\n",
              "      <td>8235 Lohn SH</td>\n",
              "      <td>Verwaltung von Immobilien.</td>\n",
              "      <td>no data</td>\n",
              "      <td>no data</td>\n",
              "      <td>no data</td>\n",
              "      <td>2025-01-10</td>\n",
              "    </tr>\n",
              "    <tr>\n",
              "      <th>4</th>\n",
              "      <td>4fe15a9e-237b-487a-9334-fd0fc248602e</td>\n",
              "      <td>Deletion</td>\n",
              "      <td>de</td>\n",
              "      <td>2025-01-15</td>\n",
              "      <td>no data</td>\n",
              "      <td>AG</td>\n",
              "      <td>Deletion Freuler Haustechnik, Oberwil-Lieli</td>\n",
              "      <td>2025-01-10</td>\n",
              "      <td>Freuler Haustechnik, in Oberwil-Lieli, CHE-136...</td>\n",
              "      <td>Freuler Haustechnik</td>\n",
              "      <td>...</td>\n",
              "      <td>CH40016081529</td>\n",
              "      <td>Oberwil-Lieli</td>\n",
              "      <td>0101</td>\n",
              "      <td>Lettenstrasse 29</td>\n",
              "      <td>8966 Oberwil-Lieli</td>\n",
              "      <td>Ausführung von Sanitärarbeiten.</td>\n",
              "      <td>no data</td>\n",
              "      <td>no data</td>\n",
              "      <td>no data</td>\n",
              "      <td>2025-01-10</td>\n",
              "    </tr>\n",
              "    <tr>\n",
              "      <th>5</th>\n",
              "      <td>c403d707-6d39-4e86-8796-9ac2a4827adc</td>\n",
              "      <td>Deletion</td>\n",
              "      <td>de</td>\n",
              "      <td>2025-01-15</td>\n",
              "      <td>no data</td>\n",
              "      <td>SG</td>\n",
              "      <td>Deletion Bourbon-Baron, Lübberstedt, Oberriet ...</td>\n",
              "      <td>2025-01-10</td>\n",
              "      <td>Bourbon-Baron, Lübberstedt, in Oberriet (SG), ...</td>\n",
              "      <td>Bourbon-Baron, Lübberstedt</td>\n",
              "      <td>...</td>\n",
              "      <td>CH32010897475</td>\n",
              "      <td>Oberriet (SG)</td>\n",
              "      <td>0101</td>\n",
              "      <td>Montlingerstrasse 1</td>\n",
              "      <td>9463 Oberriet SG</td>\n",
              "      <td>An- und Verkauf von Getränken, vorrangig Spiri...</td>\n",
              "      <td>no data</td>\n",
              "      <td>no data</td>\n",
              "      <td>no data</td>\n",
              "      <td>2025-01-10</td>\n",
              "    </tr>\n",
              "    <tr>\n",
              "      <th>6</th>\n",
              "      <td>c865bf87-244a-4664-9385-cd480afead8b</td>\n",
              "      <td>Deletion</td>\n",
              "      <td>de</td>\n",
              "      <td>2025-01-15</td>\n",
              "      <td>no data</td>\n",
              "      <td>AG</td>\n",
              "      <td>Deletion LS Adventure KLG, Spreitenbach</td>\n",
              "      <td>2025-01-10</td>\n",
              "      <td>LS Adventure KLG, in Spreitenbach, CHE-162.062...</td>\n",
              "      <td>LS Adventure KLG</td>\n",
              "      <td>...</td>\n",
              "      <td>CH40026072354</td>\n",
              "      <td>Spreitenbach</td>\n",
              "      <td>0103</td>\n",
              "      <td>Limmatstrasse 2</td>\n",
              "      <td>8957 Spreitenbach</td>\n",
              "      <td>Handel mit Waren aller Art, insbesondere mit L...</td>\n",
              "      <td>no data</td>\n",
              "      <td>no data</td>\n",
              "      <td>no data</td>\n",
              "      <td>2025-01-10</td>\n",
              "    </tr>\n",
              "    <tr>\n",
              "      <th>7</th>\n",
              "      <td>40ea91e8-6658-4c15-9933-5f614b360899</td>\n",
              "      <td>Deletion</td>\n",
              "      <td>de</td>\n",
              "      <td>2025-01-15</td>\n",
              "      <td>no data</td>\n",
              "      <td>BS</td>\n",
              "      <td>Deletion Wallprint Momirovic, Basel</td>\n",
              "      <td>2025-01-10</td>\n",
              "      <td>Wallprint Momirovic, in Basel, CHE-358.767.617...</td>\n",
              "      <td>Wallprint Momirovic</td>\n",
              "      <td>...</td>\n",
              "      <td>CH27010214548</td>\n",
              "      <td>Basel</td>\n",
              "      <td>0101</td>\n",
              "      <td>Oetlingerstrasse 40</td>\n",
              "      <td>4057 Basel</td>\n",
              "      <td>Das Einzelunternehmen bezweckt die Erbringung ...</td>\n",
              "      <td>no data</td>\n",
              "      <td>no data</td>\n",
              "      <td>no data</td>\n",
              "      <td>2025-01-10</td>\n",
              "    </tr>\n",
              "    <tr>\n",
              "      <th>8</th>\n",
              "      <td>99314240-16ce-43d8-a758-ce620b10f3aa</td>\n",
              "      <td>Deletion</td>\n",
              "      <td>de</td>\n",
              "      <td>2025-01-15</td>\n",
              "      <td>no data</td>\n",
              "      <td>SG</td>\n",
              "      <td>Deletion Max Kappler, Malerarbeiten, Zuzwil (SG)</td>\n",
              "      <td>2025-01-10</td>\n",
              "      <td>Max Kappler, Malerarbeiten, in Zuzwil (SG), CH...</td>\n",
              "      <td>Max Kappler, Malerarbeiten</td>\n",
              "      <td>...</td>\n",
              "      <td>CH32010412521</td>\n",
              "      <td>Zuzwil (SG)</td>\n",
              "      <td>0101</td>\n",
              "      <td>Weierenstrasse 55</td>\n",
              "      <td>9524 Zuzwil SG</td>\n",
              "      <td>Allgemeine Maler- und Tapeziererarbeiten</td>\n",
              "      <td>no data</td>\n",
              "      <td>no data</td>\n",
              "      <td>no data</td>\n",
              "      <td>2025-01-10</td>\n",
              "    </tr>\n",
              "    <tr>\n",
              "      <th>9</th>\n",
              "      <td>ecb817fa-8a57-4cb4-abe0-b360f86df91a</td>\n",
              "      <td>Deletion</td>\n",
              "      <td>de</td>\n",
              "      <td>2025-01-15</td>\n",
              "      <td>no data</td>\n",
              "      <td>SG</td>\n",
              "      <td>Deletion Egli Trade, Lütisburg</td>\n",
              "      <td>2025-01-10</td>\n",
              "      <td>Egli Trade, in Lütisburg, CHE-114.803.810, Ein...</td>\n",
              "      <td>Egli Trade</td>\n",
              "      <td>...</td>\n",
              "      <td>CH32010650403</td>\n",
              "      <td>Lütisburg</td>\n",
              "      <td>0101</td>\n",
              "      <td>Station 8</td>\n",
              "      <td>9601 Lütisburg Station</td>\n",
              "      <td>Handel mit Waren aller Art, insbesondere Konsu...</td>\n",
              "      <td>no data</td>\n",
              "      <td>no data</td>\n",
              "      <td>no data</td>\n",
              "      <td>2025-01-10</td>\n",
              "    </tr>\n",
              "  </tbody>\n",
              "</table>\n",
              "<p>10 rows × 21 columns</p>\n",
              "</div>"
            ],
            "text/plain": [
              "                                     id entryType language publicationDate  \\\n",
              "0  4f614e43-c3e7-4df5-805f-4574ae3eabdc  Deletion       fr      2025-01-15   \n",
              "1  e8608e46-d33e-4224-803f-d5d0cb6136bc  Deletion       de      2025-01-15   \n",
              "2  76a76b6a-7cc8-4378-b9f4-4c444315c931  Deletion       de      2025-01-15   \n",
              "3  d8b04ace-8253-44e9-aae2-53434adbb228  Deletion       de      2025-01-15   \n",
              "4  4fe15a9e-237b-487a-9334-fd0fc248602e  Deletion       de      2025-01-15   \n",
              "5  c403d707-6d39-4e86-8796-9ac2a4827adc  Deletion       de      2025-01-15   \n",
              "6  c865bf87-244a-4664-9385-cd480afead8b  Deletion       de      2025-01-15   \n",
              "7  40ea91e8-6658-4c15-9933-5f614b360899  Deletion       de      2025-01-15   \n",
              "8  99314240-16ce-43d8-a758-ce620b10f3aa  Deletion       de      2025-01-15   \n",
              "9  ecb817fa-8a57-4cb4-abe0-b360f86df91a  Deletion       de      2025-01-15   \n",
              "\n",
              "  legalRemedy cantons                                           title_en  \\\n",
              "0     no data      JU  Deletion Société coopérative de la Guinguette ...   \n",
              "1     no data      SG    Deletion DENTAMINA AG in Liquidation, Bad Ragaz   \n",
              "2     no data      AG  Deletion schwarz logistics engineering, Reinac...   \n",
              "3     no data      SH          Deletion Wipf & Co. Immobilien, Lohn (SH)   \n",
              "4     no data      AG        Deletion Freuler Haustechnik, Oberwil-Lieli   \n",
              "5     no data      SG  Deletion Bourbon-Baron, Lübberstedt, Oberriet ...   \n",
              "6     no data      AG            Deletion LS Adventure KLG, Spreitenbach   \n",
              "7     no data      BS                Deletion Wallprint Momirovic, Basel   \n",
              "8     no data      SG   Deletion Max Kappler, Malerarbeiten, Zuzwil (SG)   \n",
              "9     no data      SG                     Deletion Egli Trade, Lütisburg   \n",
              "\n",
              "  journal_date                                   publication_text  \\\n",
              "0   2025-01-10  Société coopérative de la Guinguette en liquid...   \n",
              "1   2025-01-10  DENTAMINA AG in Liquidation, in Bad Ragaz, CHE...   \n",
              "2   2025-01-10  schwarz logistics engineering, in Reinach (AG)...   \n",
              "3   2025-01-10  Wipf & Co. Immobilien, in Lohn (SH), CHE-101.3...   \n",
              "4   2025-01-10  Freuler Haustechnik, in Oberwil-Lieli, CHE-136...   \n",
              "5   2025-01-10  Bourbon-Baron, Lübberstedt, in Oberriet (SG), ...   \n",
              "6   2025-01-10  LS Adventure KLG, in Spreitenbach, CHE-162.062...   \n",
              "7   2025-01-10  Wallprint Momirovic, in Basel, CHE-358.767.617...   \n",
              "8   2025-01-10  Max Kappler, Malerarbeiten, in Zuzwil (SG), CH...   \n",
              "9   2025-01-10  Egli Trade, in Lütisburg, CHE-114.803.810, Ein...   \n",
              "\n",
              "                                        company_name  ... company_code13  \\\n",
              "0  Société coopérative de la Guinguette en liquid...  ...  CH67050089076   \n",
              "1                        DENTAMINA AG in Liquidation  ...  CH32030708454   \n",
              "2                      schwarz logistics engineering  ...  CH40010362385   \n",
              "3                              Wipf & Co. Immobilien  ...  CH29020046673   \n",
              "4                                Freuler Haustechnik  ...  CH40016081529   \n",
              "5                         Bourbon-Baron, Lübberstedt  ...  CH32010897475   \n",
              "6                                   LS Adventure KLG  ...  CH40026072354   \n",
              "7                                Wallprint Momirovic  ...  CH27010214548   \n",
              "8                         Max Kappler, Malerarbeiten  ...  CH32010412521   \n",
              "9                                         Egli Trade  ...  CH32010650403   \n",
              "\n",
              "    company_seat company_legalForm company_street_and_number  \\\n",
              "0       Delémont              0108          Route de Bâle 10   \n",
              "1      Bad Ragaz              0106           Marausstrasse 3   \n",
              "2   Reinach (AG)              0101              Tannenrain 9   \n",
              "3      Lohn (SH)              0103            Blattenacker 1   \n",
              "4  Oberwil-Lieli              0101          Lettenstrasse 29   \n",
              "5  Oberriet (SG)              0101       Montlingerstrasse 1   \n",
              "6   Spreitenbach              0103           Limmatstrasse 2   \n",
              "7          Basel              0101       Oetlingerstrasse 40   \n",
              "8    Zuzwil (SG)              0101         Weierenstrasse 55   \n",
              "9      Lütisburg              0101                 Station 8   \n",
              "\n",
              "     company_zip_and_town                                    company_purpose  \\\n",
              "0           2800 Delémont  Soutenir et protéger ses membres; coordonner e...   \n",
              "1          7310 Bad Ragaz  Führung einer Zahnarztpraxis und Erbringung vo...   \n",
              "2         5734 Reinach AG  Beratung auf dem Gebiet der Logistik, Planung ...   \n",
              "3            8235 Lohn SH                         Verwaltung von Immobilien.   \n",
              "4      8966 Oberwil-Lieli                    Ausführung von Sanitärarbeiten.   \n",
              "5        9463 Oberriet SG  An- und Verkauf von Getränken, vorrangig Spiri...   \n",
              "6       8957 Spreitenbach  Handel mit Waren aller Art, insbesondere mit L...   \n",
              "7              4057 Basel  Das Einzelunternehmen bezweckt die Erbringung ...   \n",
              "8          9524 Zuzwil SG           Allgemeine Maler- und Tapeziererarbeiten   \n",
              "9  9601 Lütisburg Station  Handel mit Waren aller Art, insbesondere Konsu...   \n",
              "\n",
              "  company_capital_nominal company_capital_paid company_optingout  \\\n",
              "0                 no data              no data           no data   \n",
              "1               100000.00            100000.00           no data   \n",
              "2                 no data              no data           no data   \n",
              "3                 no data              no data           no data   \n",
              "4                 no data              no data           no data   \n",
              "5                 no data              no data           no data   \n",
              "6                 no data              no data           no data   \n",
              "7                 no data              no data           no data   \n",
              "8                 no data              no data           no data   \n",
              "9                 no data              no data           no data   \n",
              "\n",
              "  company_deletiondate  \n",
              "0           2025-01-10  \n",
              "1           2025-01-10  \n",
              "2           2025-01-10  \n",
              "3           2025-01-10  \n",
              "4           2025-01-10  \n",
              "5           2025-01-10  \n",
              "6           2025-01-10  \n",
              "7           2025-01-10  \n",
              "8           2025-01-10  \n",
              "9           2025-01-10  \n",
              "\n",
              "[10 rows x 21 columns]"
            ]
          },
          "execution_count": 10,
          "metadata": {},
          "output_type": "execute_result"
        }
      ],
      "source": [
        "df_content.head(10)"
      ]
    },
    {
      "cell_type": "markdown",
      "metadata": {},
      "source": [
        "DataFrame Summary"
      ]
    },
    {
      "cell_type": "code",
      "execution_count": 11,
      "metadata": {},
      "outputs": [
        {
          "name": "stdout",
          "output_type": "stream",
          "text": [
            "<class 'pandas.core.frame.DataFrame'>\n",
            "RangeIndex: 637 entries, 0 to 636\n",
            "Data columns (total 21 columns):\n",
            " #   Column                     Non-Null Count  Dtype \n",
            "---  ------                     --------------  ----- \n",
            " 0   id                         637 non-null    object\n",
            " 1   entryType                  637 non-null    object\n",
            " 2   language                   637 non-null    object\n",
            " 3   publicationDate            637 non-null    object\n",
            " 4   legalRemedy                637 non-null    object\n",
            " 5   cantons                    637 non-null    object\n",
            " 6   title_en                   637 non-null    object\n",
            " 7   journal_date               637 non-null    object\n",
            " 8   publication_text           637 non-null    object\n",
            " 9   company_name               637 non-null    object\n",
            " 10  company_uid                637 non-null    object\n",
            " 11  company_code13             637 non-null    object\n",
            " 12  company_seat               637 non-null    object\n",
            " 13  company_legalForm          637 non-null    object\n",
            " 14  company_street_and_number  637 non-null    object\n",
            " 15  company_zip_and_town       637 non-null    object\n",
            " 16  company_purpose            637 non-null    object\n",
            " 17  company_capital_nominal    637 non-null    object\n",
            " 18  company_capital_paid       637 non-null    object\n",
            " 19  company_optingout          637 non-null    object\n",
            " 20  company_deletiondate       637 non-null    object\n",
            "dtypes: object(21)\n",
            "memory usage: 104.6+ KB\n"
          ]
        }
      ],
      "source": [
        "df_content.info()"
      ]
    },
    {
      "cell_type": "markdown",
      "metadata": {},
      "source": [
        "We want to check if there are duplicated `id`: There are not."
      ]
    },
    {
      "cell_type": "code",
      "execution_count": 12,
      "metadata": {},
      "outputs": [
        {
          "data": {
            "text/html": [
              "<div>\n",
              "<style scoped>\n",
              "    .dataframe tbody tr th:only-of-type {\n",
              "        vertical-align: middle;\n",
              "    }\n",
              "\n",
              "    .dataframe tbody tr th {\n",
              "        vertical-align: top;\n",
              "    }\n",
              "\n",
              "    .dataframe thead th {\n",
              "        text-align: right;\n",
              "    }\n",
              "</style>\n",
              "<table border=\"1\" class=\"dataframe\">\n",
              "  <thead>\n",
              "    <tr style=\"text-align: right;\">\n",
              "      <th></th>\n",
              "      <th>id</th>\n",
              "      <th>entryType</th>\n",
              "      <th>language</th>\n",
              "      <th>publicationDate</th>\n",
              "      <th>legalRemedy</th>\n",
              "      <th>cantons</th>\n",
              "      <th>title_en</th>\n",
              "      <th>journal_date</th>\n",
              "      <th>publication_text</th>\n",
              "      <th>company_name</th>\n",
              "      <th>...</th>\n",
              "      <th>company_code13</th>\n",
              "      <th>company_seat</th>\n",
              "      <th>company_legalForm</th>\n",
              "      <th>company_street_and_number</th>\n",
              "      <th>company_zip_and_town</th>\n",
              "      <th>company_purpose</th>\n",
              "      <th>company_capital_nominal</th>\n",
              "      <th>company_capital_paid</th>\n",
              "      <th>company_optingout</th>\n",
              "      <th>company_deletiondate</th>\n",
              "    </tr>\n",
              "  </thead>\n",
              "  <tbody>\n",
              "  </tbody>\n",
              "</table>\n",
              "<p>0 rows × 21 columns</p>\n",
              "</div>"
            ],
            "text/plain": [
              "Empty DataFrame\n",
              "Columns: [id, entryType, language, publicationDate, legalRemedy, cantons, title_en, journal_date, publication_text, company_name, company_uid, company_code13, company_seat, company_legalForm, company_street_and_number, company_zip_and_town, company_purpose, company_capital_nominal, company_capital_paid, company_optingout, company_deletiondate]\n",
              "Index: []\n",
              "\n",
              "[0 rows x 21 columns]"
            ]
          },
          "execution_count": 12,
          "metadata": {},
          "output_type": "execute_result"
        }
      ],
      "source": [
        "df_content[df_content.duplicated(subset=['id'])]"
      ]
    },
    {
      "cell_type": "markdown",
      "metadata": {},
      "source": [
        "Find missing values"
      ]
    },
    {
      "cell_type": "code",
      "execution_count": 13,
      "metadata": {},
      "outputs": [
        {
          "data": {
            "text/plain": [
              "id                           0\n",
              "entryType                    0\n",
              "language                     0\n",
              "publicationDate              0\n",
              "legalRemedy                  0\n",
              "cantons                      0\n",
              "title_en                     0\n",
              "journal_date                 0\n",
              "publication_text             0\n",
              "company_name                 0\n",
              "company_uid                  0\n",
              "company_code13               0\n",
              "company_seat                 0\n",
              "company_legalForm            0\n",
              "company_street_and_number    0\n",
              "company_zip_and_town         0\n",
              "company_purpose              0\n",
              "company_capital_nominal      0\n",
              "company_capital_paid         0\n",
              "company_optingout            0\n",
              "company_deletiondate         0\n",
              "dtype: int64"
            ]
          },
          "execution_count": 13,
          "metadata": {},
          "output_type": "execute_result"
        }
      ],
      "source": [
        "df_content.isna().sum()"
      ]
    },
    {
      "cell_type": "markdown",
      "metadata": {},
      "source": [
        "Evaluating distribution and shape of a variable with missing data"
      ]
    },
    {
      "cell_type": "code",
      "execution_count": null,
      "metadata": {},
      "outputs": [
        {
          "name": "stdout",
          "output_type": "stream",
          "text": [
            "['HR03']\n"
          ]
        }
      ],
      "source": [
        "#1. Variable containing missing data\n",
        "# missing_data = df_content.columns[df_content.isna().sum() > 0].to_list()\n",
        "# missing_data\n",
        "\n",
        "#2. Exemple of missing data (not missing) in order to understand what to do with missing values\n",
        "# for col in missing_data:\n",
        "#     unique_values = df_content[col].dropna().unique()[:5]\n",
        "#     print(f\"{col}: {unique_values}\\n\")\n",
        "\n",
        "#3. Trying to understand the importance of the missing data, Filter rows where 'xxx' is missing and display the first 5\n",
        "# missing_rows = df_content[df_content['legalRemedy'].isna()]\n",
        "# print(missing_rows.head(5))\n",
        "\n",
        "#4. Print a list of unique missing variable, Filter rows where 'xxx' is missing and get unique 'yyy' values\n",
        "# unique_yyy = df_content[df_content['legalRemedy'].isna()]['subRubric'].unique()\n",
        "# print(unique_yyy)"
      ]
    },
    {
      "cell_type": "markdown",
      "metadata": {},
      "source": [
        "---"
      ]
    },
    {
      "cell_type": "markdown",
      "metadata": {
        "id": "ltNetd085qHf"
      },
      "source": [
        "# Push files to Repo"
      ]
    },
    {
      "cell_type": "markdown",
      "metadata": {},
      "source": [
        "If output .csv file already exist then proceed to check if 'id' already are saved inside of it."
      ]
    },
    {
      "cell_type": "code",
      "execution_count": 14,
      "metadata": {
        "id": "aKlnIozA4eQO",
        "outputId": "fd09bc1f-adb1-4511-f6ce-492a6af570c0"
      },
      "outputs": [
        {
          "name": "stdout",
          "output_type": "stream",
          "text": [
            "Existing publications before append: 9136\n",
            "New publications fetched:             637\n",
            "Publications discarded (duplicates): 0\n",
            "Publications appended:               637\n",
            "Total publications after append:     9773\n"
          ]
        }
      ],
      "source": [
        "# Ensure id column is string for reliable comparison\n",
        "df_content[\"id\"] = df_content[\"id\"].astype(str)\n",
        "new_count = len(df_content)\n",
        "\n",
        "if os.path.exists(output_path):\n",
        "    # 1. Load existing IDs\n",
        "    df_existing = pd.read_csv(output_path, usecols=[\"id\"])\n",
        "    df_existing[\"id\"] = df_existing[\"id\"].astype(str)\n",
        "    existing_ids = set(df_existing[\"id\"])\n",
        "    existing_count = len(existing_ids)\n",
        "\n",
        "    # 2. Determine which rows are truly new\n",
        "    mask_new = ~df_content[\"id\"].isin(existing_ids)\n",
        "    df_to_append = df_content[mask_new]\n",
        "    appended_count = len(df_to_append)\n",
        "\n",
        "    # 3. Compute discarded count\n",
        "    discarded_count = new_count - appended_count\n",
        "\n",
        "    # 4. Append new rows if any\n",
        "    if appended_count > 0:\n",
        "        df_to_append.to_csv(output_path, mode=\"a\", header=False, index=False)\n",
        "\n",
        "    # 5. Totals after append\n",
        "    total_after = existing_count + appended_count\n",
        "\n",
        "    # 6. Report to user\n",
        "    print(f\"Existing publications before append: {existing_count}\")\n",
        "    print(f\"New publications fetched:             {new_count}\")\n",
        "    print(f\"Publications discarded (duplicates): {discarded_count}\")\n",
        "    print(f\"Publications appended:               {appended_count}\")\n",
        "    print(f\"Total publications after append:     {total_after}\")\n",
        "\n",
        "else:\n",
        "    # No existing file: write all\n",
        "    df_content.to_csv(output_path, index=False)\n",
        "    print(f\"Existing publications before append: 0\")\n",
        "    print(f\"New publications fetched:            {new_count}\")\n",
        "    print(f\"Publications discarded (duplicates): 0\")\n",
        "    print(f\"Publications appended:               {new_count}\")\n",
        "    print(f\"Total publications after append:     {new_count}\")"
      ]
    },
    {
      "cell_type": "markdown",
      "metadata": {},
      "source": [
        "Second Batch"
      ]
    },
    {
      "cell_type": "code",
      "execution_count": 15,
      "metadata": {},
      "outputs": [
        {
          "name": "stdout",
          "output_type": "stream",
          "text": [
            "Processed first batch (636 refs)\n"
          ]
        }
      ],
      "source": [
        "# Second run\n",
        "rows2 = process_batch(second_batch)\n",
        "# e.g. save rows1 to CSV or accumulate\n",
        "print(f\"Processed first batch ({len(second_batch)} refs)\")"
      ]
    },
    {
      "cell_type": "markdown",
      "metadata": {},
      "source": [
        "### Save inside new .csv + Data Inspection"
      ]
    },
    {
      "cell_type": "code",
      "execution_count": 16,
      "metadata": {},
      "outputs": [
        {
          "data": {
            "text/html": [
              "<div>\n",
              "<style scoped>\n",
              "    .dataframe tbody tr th:only-of-type {\n",
              "        vertical-align: middle;\n",
              "    }\n",
              "\n",
              "    .dataframe tbody tr th {\n",
              "        vertical-align: top;\n",
              "    }\n",
              "\n",
              "    .dataframe thead th {\n",
              "        text-align: right;\n",
              "    }\n",
              "</style>\n",
              "<table border=\"1\" class=\"dataframe\">\n",
              "  <thead>\n",
              "    <tr style=\"text-align: right;\">\n",
              "      <th></th>\n",
              "      <th>id</th>\n",
              "      <th>entryType</th>\n",
              "      <th>language</th>\n",
              "      <th>publicationDate</th>\n",
              "      <th>legalRemedy</th>\n",
              "      <th>cantons</th>\n",
              "      <th>title_en</th>\n",
              "      <th>journal_date</th>\n",
              "      <th>publication_text</th>\n",
              "      <th>company_name</th>\n",
              "      <th>...</th>\n",
              "      <th>company_code13</th>\n",
              "      <th>company_seat</th>\n",
              "      <th>company_legalForm</th>\n",
              "      <th>company_street_and_number</th>\n",
              "      <th>company_zip_and_town</th>\n",
              "      <th>company_purpose</th>\n",
              "      <th>company_capital_nominal</th>\n",
              "      <th>company_capital_paid</th>\n",
              "      <th>company_optingout</th>\n",
              "      <th>company_deletiondate</th>\n",
              "    </tr>\n",
              "  </thead>\n",
              "  <tbody>\n",
              "    <tr>\n",
              "      <th>0</th>\n",
              "      <td>0cd03fb5-e998-4b75-b16f-35ea26a297ca</td>\n",
              "      <td>Change</td>\n",
              "      <td>de</td>\n",
              "      <td>2025-01-15</td>\n",
              "      <td>Die Mutation der aufgeführten Rechtseinheit wu...</td>\n",
              "      <td>BL</td>\n",
              "      <td>Change AnalytikPro GmbH, Birsfelden</td>\n",
              "      <td>2025-01-10</td>\n",
              "      <td>AnalytikPro GmbH, in Birsfelden, CHE-486.084.8...</td>\n",
              "      <td>AnalytikPro GmbH</td>\n",
              "      <td>...</td>\n",
              "      <td>CH28040256608</td>\n",
              "      <td>Birsfelden</td>\n",
              "      <td>0107</td>\n",
              "      <td>Zwinglistrasse 8</td>\n",
              "      <td>4127 Birsfelden</td>\n",
              "      <td>Zweck des Unternehmens ist die Erbringung von ...</td>\n",
              "      <td>20000.00</td>\n",
              "      <td>20000.00</td>\n",
              "      <td>false</td>\n",
              "      <td>no data</td>\n",
              "    </tr>\n",
              "    <tr>\n",
              "      <th>1</th>\n",
              "      <td>fa94a533-783c-4549-bb85-48f182895c14</td>\n",
              "      <td>Change</td>\n",
              "      <td>de</td>\n",
              "      <td>2025-01-15</td>\n",
              "      <td>Die Mutation der aufgeführten Rechtseinheit wu...</td>\n",
              "      <td>BS</td>\n",
              "      <td>Change Vector BioPharma AG, Basel, new Vector ...</td>\n",
              "      <td>2025-01-10</td>\n",
              "      <td>Vector BioPharma AG, in Basel, CHE-471.427.733...</td>\n",
              "      <td>Vector BioPharma AG in Liquidation</td>\n",
              "      <td>...</td>\n",
              "      <td>CH27030163150</td>\n",
              "      <td>Basel</td>\n",
              "      <td>0106</td>\n",
              "      <td>Aeschenvorstadt 36</td>\n",
              "      <td>4051 Basel</td>\n",
              "      <td>Die Gesellschaft bezweckt die Erforschung, die...</td>\n",
              "      <td>400000.00</td>\n",
              "      <td>400000.00</td>\n",
              "      <td>false</td>\n",
              "      <td>no data</td>\n",
              "    </tr>\n",
              "    <tr>\n",
              "      <th>2</th>\n",
              "      <td>50869199-7de3-45f8-a5b9-943fc868b887</td>\n",
              "      <td>Change</td>\n",
              "      <td>de</td>\n",
              "      <td>2025-01-15</td>\n",
              "      <td>Die Mutation der aufgeführten Rechtseinheit wu...</td>\n",
              "      <td>GR</td>\n",
              "      <td>Change Stiftung GRÜN &amp; CHROM, Bergün Filisur</td>\n",
              "      <td>2025-01-10</td>\n",
              "      <td>Stiftung GRÜN &amp; CHROM, in Bergün Filisur, CHE-...</td>\n",
              "      <td>Stiftung GRÜN &amp; CHROM</td>\n",
              "      <td>...</td>\n",
              "      <td>CH35070011983</td>\n",
              "      <td>Bergün Filisur</td>\n",
              "      <td>0110</td>\n",
              "      <td>Veja Stazion 11</td>\n",
              "      <td>7482 Bergün/Bravuogn</td>\n",
              "      <td>Die gemeinnützige Stiftung GRÜN &amp; CHROM bezwec...</td>\n",
              "      <td>no data</td>\n",
              "      <td>no data</td>\n",
              "      <td>false</td>\n",
              "      <td>no data</td>\n",
              "    </tr>\n",
              "    <tr>\n",
              "      <th>3</th>\n",
              "      <td>717fdfde-006f-4958-9614-c85ca6840b78</td>\n",
              "      <td>Change</td>\n",
              "      <td>fr</td>\n",
              "      <td>2025-01-15</td>\n",
              "      <td>La mutation de l'entité juridique mentionnée a...</td>\n",
              "      <td>VD</td>\n",
              "      <td>Change CFPS Compagnie Financière de Patrimoine...</td>\n",
              "      <td>2025-01-10</td>\n",
              "      <td>CFPS Compagnie Financière de Patrimoine Suisse...</td>\n",
              "      <td>CFPS Compagnie Financière de Patrimoine Suisse SA</td>\n",
              "      <td>...</td>\n",
              "      <td>CH55000687334</td>\n",
              "      <td>Saint-Sulpice (VD)</td>\n",
              "      <td>0106</td>\n",
              "      <td>Rue des Jordils 40</td>\n",
              "      <td>1025 St-Sulpice VD</td>\n",
              "      <td>la société a pour but toute activité financièr...</td>\n",
              "      <td>9280000.00</td>\n",
              "      <td>9280000.00</td>\n",
              "      <td>false</td>\n",
              "      <td>no data</td>\n",
              "    </tr>\n",
              "    <tr>\n",
              "      <th>4</th>\n",
              "      <td>6ef18c9c-67a2-4c18-9b03-27e611300890</td>\n",
              "      <td>Change</td>\n",
              "      <td>fr</td>\n",
              "      <td>2025-01-15</td>\n",
              "      <td>La mutation de l'entité juridique mentionnée a...</td>\n",
              "      <td>VD</td>\n",
              "      <td>Change beWell SA, Lausanne, new beWell SA en l...</td>\n",
              "      <td>2025-01-10</td>\n",
              "      <td>beWell SA, à Lausanne, CHE-166.653.133 (FOSC d...</td>\n",
              "      <td>beWell SA en liquidation</td>\n",
              "      <td>...</td>\n",
              "      <td>CH55011927500</td>\n",
              "      <td>Lausanne</td>\n",
              "      <td>0106</td>\n",
              "      <td>Avenue de Rumine 11</td>\n",
              "      <td>1005 Lausanne</td>\n",
              "      <td>la société a pour but le développement, la cré...</td>\n",
              "      <td>100000.00</td>\n",
              "      <td>100000.00</td>\n",
              "      <td>false</td>\n",
              "      <td>no data</td>\n",
              "    </tr>\n",
              "    <tr>\n",
              "      <th>5</th>\n",
              "      <td>6959fcd4-4ef7-48a9-9031-ae9a779ebc7f</td>\n",
              "      <td>Change</td>\n",
              "      <td>fr</td>\n",
              "      <td>2025-01-15</td>\n",
              "      <td>La mutation de l'entité juridique mentionnée a...</td>\n",
              "      <td>VD</td>\n",
              "      <td>Change Gilbert Favre Installations Sanitaires ...</td>\n",
              "      <td>2025-01-10</td>\n",
              "      <td>Gilbert Favre Installations Sanitaires Sàrl, à...</td>\n",
              "      <td>Jonas Reymond Sàrl</td>\n",
              "      <td>...</td>\n",
              "      <td>CH55011907766</td>\n",
              "      <td>La Tour-de-Peilz</td>\n",
              "      <td>0107</td>\n",
              "      <td>Rue du Temple 6</td>\n",
              "      <td>1814 La Tour-de-Peilz</td>\n",
              "      <td>la société a le but suivant: toutes activités ...</td>\n",
              "      <td>30000.00</td>\n",
              "      <td>30000.00</td>\n",
              "      <td>false</td>\n",
              "      <td>no data</td>\n",
              "    </tr>\n",
              "    <tr>\n",
              "      <th>6</th>\n",
              "      <td>8d4d6b9b-7715-4cfa-ada8-95ad57de4097</td>\n",
              "      <td>Change</td>\n",
              "      <td>de</td>\n",
              "      <td>2025-01-15</td>\n",
              "      <td>Die Mutation der aufgeführten Rechtseinheit wu...</td>\n",
              "      <td>SG</td>\n",
              "      <td>Change MaWie Kommunikation GmbH, Wil (SG), new...</td>\n",
              "      <td>2025-01-10</td>\n",
              "      <td>MaWie Kommunikation GmbH, in Wil (SG), CHE-311...</td>\n",
              "      <td>MaWie Kommunikation GmbH in Liquidation</td>\n",
              "      <td>...</td>\n",
              "      <td>CH32040824128</td>\n",
              "      <td>Wil (SG)</td>\n",
              "      <td>0107</td>\n",
              "      <td>Erlenstrasse 3</td>\n",
              "      <td>9500 Wil SG</td>\n",
              "      <td>Beratung und Erbringung von Dienstleistungen i...</td>\n",
              "      <td>20000.00</td>\n",
              "      <td>no data</td>\n",
              "      <td>false</td>\n",
              "      <td>no data</td>\n",
              "    </tr>\n",
              "    <tr>\n",
              "      <th>7</th>\n",
              "      <td>33a9b23d-98b8-42e5-af9b-3c754d5afb40</td>\n",
              "      <td>Change</td>\n",
              "      <td>fr</td>\n",
              "      <td>2025-01-15</td>\n",
              "      <td>La mutation de l'entité juridique mentionnée a...</td>\n",
              "      <td>VD</td>\n",
              "      <td>Change Café-Barre Sàrl, Lausanne</td>\n",
              "      <td>2025-01-10</td>\n",
              "      <td>Café-Barre Sàrl, à Lausanne, CHE-346.085.505 (...</td>\n",
              "      <td>Café-Barre Sàrl</td>\n",
              "      <td>...</td>\n",
              "      <td>CH55011113871</td>\n",
              "      <td>Lausanne</td>\n",
              "      <td>0107</td>\n",
              "      <td>Avenue du Tribunal-Fédéral 1</td>\n",
              "      <td>1005 Lausanne</td>\n",
              "      <td>la société a pour but l'exploitation de cafés ...</td>\n",
              "      <td>20000.00</td>\n",
              "      <td>20000.00</td>\n",
              "      <td>true</td>\n",
              "      <td>no data</td>\n",
              "    </tr>\n",
              "    <tr>\n",
              "      <th>8</th>\n",
              "      <td>b4ccf559-9a96-4593-9de6-66d17cca6552</td>\n",
              "      <td>Change</td>\n",
              "      <td>de</td>\n",
              "      <td>2025-01-15</td>\n",
              "      <td>Die Mutation der aufgeführten Rechtseinheit wu...</td>\n",
              "      <td>ZG</td>\n",
              "      <td>Change RedcoMet Resources AG, Zug</td>\n",
              "      <td>2025-01-10</td>\n",
              "      <td>Berichtigung des im SHAB vom 15.06.2021, Meldu...</td>\n",
              "      <td>RedcoMet Resources AG</td>\n",
              "      <td>...</td>\n",
              "      <td>CH17030279439</td>\n",
              "      <td>Zug</td>\n",
              "      <td>0106</td>\n",
              "      <td>Baarerstrasse 82</td>\n",
              "      <td>6302 Zug</td>\n",
              "      <td>Die Gesellschaft bezweckt den internationalen ...</td>\n",
              "      <td>761000.00</td>\n",
              "      <td>761000.00</td>\n",
              "      <td>false</td>\n",
              "      <td>no data</td>\n",
              "    </tr>\n",
              "    <tr>\n",
              "      <th>9</th>\n",
              "      <td>38e0f544-dc65-4c40-9dbc-7588043d9a93</td>\n",
              "      <td>Change</td>\n",
              "      <td>de</td>\n",
              "      <td>2025-01-15</td>\n",
              "      <td>Die Mutation der aufgeführten Rechtseinheit wu...</td>\n",
              "      <td>ZG</td>\n",
              "      <td>Change Rhynea Capital AG, Zug</td>\n",
              "      <td>2025-01-10</td>\n",
              "      <td>Rhynea Capital AG, in Zug, CHE-357.586.800, Ak...</td>\n",
              "      <td>Rhynea Capital AG</td>\n",
              "      <td>...</td>\n",
              "      <td>CH17030504239</td>\n",
              "      <td>Zug</td>\n",
              "      <td>0106</td>\n",
              "      <td>Bahnhofstrasse 20</td>\n",
              "      <td>6300 Zug</td>\n",
              "      <td>Die Gesellschaft bezweckt den Erwerb, das Halt...</td>\n",
              "      <td>142842.00</td>\n",
              "      <td>142842.00</td>\n",
              "      <td>false</td>\n",
              "      <td>no data</td>\n",
              "    </tr>\n",
              "  </tbody>\n",
              "</table>\n",
              "<p>10 rows × 21 columns</p>\n",
              "</div>"
            ],
            "text/plain": [
              "                                     id entryType language publicationDate  \\\n",
              "0  0cd03fb5-e998-4b75-b16f-35ea26a297ca    Change       de      2025-01-15   \n",
              "1  fa94a533-783c-4549-bb85-48f182895c14    Change       de      2025-01-15   \n",
              "2  50869199-7de3-45f8-a5b9-943fc868b887    Change       de      2025-01-15   \n",
              "3  717fdfde-006f-4958-9614-c85ca6840b78    Change       fr      2025-01-15   \n",
              "4  6ef18c9c-67a2-4c18-9b03-27e611300890    Change       fr      2025-01-15   \n",
              "5  6959fcd4-4ef7-48a9-9031-ae9a779ebc7f    Change       fr      2025-01-15   \n",
              "6  8d4d6b9b-7715-4cfa-ada8-95ad57de4097    Change       de      2025-01-15   \n",
              "7  33a9b23d-98b8-42e5-af9b-3c754d5afb40    Change       fr      2025-01-15   \n",
              "8  b4ccf559-9a96-4593-9de6-66d17cca6552    Change       de      2025-01-15   \n",
              "9  38e0f544-dc65-4c40-9dbc-7588043d9a93    Change       de      2025-01-15   \n",
              "\n",
              "                                         legalRemedy cantons  \\\n",
              "0  Die Mutation der aufgeführten Rechtseinheit wu...      BL   \n",
              "1  Die Mutation der aufgeführten Rechtseinheit wu...      BS   \n",
              "2  Die Mutation der aufgeführten Rechtseinheit wu...      GR   \n",
              "3  La mutation de l'entité juridique mentionnée a...      VD   \n",
              "4  La mutation de l'entité juridique mentionnée a...      VD   \n",
              "5  La mutation de l'entité juridique mentionnée a...      VD   \n",
              "6  Die Mutation der aufgeführten Rechtseinheit wu...      SG   \n",
              "7  La mutation de l'entité juridique mentionnée a...      VD   \n",
              "8  Die Mutation der aufgeführten Rechtseinheit wu...      ZG   \n",
              "9  Die Mutation der aufgeführten Rechtseinheit wu...      ZG   \n",
              "\n",
              "                                            title_en journal_date  \\\n",
              "0                Change AnalytikPro GmbH, Birsfelden   2025-01-10   \n",
              "1  Change Vector BioPharma AG, Basel, new Vector ...   2025-01-10   \n",
              "2       Change Stiftung GRÜN & CHROM, Bergün Filisur   2025-01-10   \n",
              "3  Change CFPS Compagnie Financière de Patrimoine...   2025-01-10   \n",
              "4  Change beWell SA, Lausanne, new beWell SA en l...   2025-01-10   \n",
              "5  Change Gilbert Favre Installations Sanitaires ...   2025-01-10   \n",
              "6  Change MaWie Kommunikation GmbH, Wil (SG), new...   2025-01-10   \n",
              "7                   Change Café-Barre Sàrl, Lausanne   2025-01-10   \n",
              "8                  Change RedcoMet Resources AG, Zug   2025-01-10   \n",
              "9                      Change Rhynea Capital AG, Zug   2025-01-10   \n",
              "\n",
              "                                    publication_text  \\\n",
              "0  AnalytikPro GmbH, in Birsfelden, CHE-486.084.8...   \n",
              "1  Vector BioPharma AG, in Basel, CHE-471.427.733...   \n",
              "2  Stiftung GRÜN & CHROM, in Bergün Filisur, CHE-...   \n",
              "3  CFPS Compagnie Financière de Patrimoine Suisse...   \n",
              "4  beWell SA, à Lausanne, CHE-166.653.133 (FOSC d...   \n",
              "5  Gilbert Favre Installations Sanitaires Sàrl, à...   \n",
              "6  MaWie Kommunikation GmbH, in Wil (SG), CHE-311...   \n",
              "7  Café-Barre Sàrl, à Lausanne, CHE-346.085.505 (...   \n",
              "8  Berichtigung des im SHAB vom 15.06.2021, Meldu...   \n",
              "9  Rhynea Capital AG, in Zug, CHE-357.586.800, Ak...   \n",
              "\n",
              "                                        company_name  ... company_code13  \\\n",
              "0                                   AnalytikPro GmbH  ...  CH28040256608   \n",
              "1                 Vector BioPharma AG in Liquidation  ...  CH27030163150   \n",
              "2                              Stiftung GRÜN & CHROM  ...  CH35070011983   \n",
              "3  CFPS Compagnie Financière de Patrimoine Suisse SA  ...  CH55000687334   \n",
              "4                           beWell SA en liquidation  ...  CH55011927500   \n",
              "5                                 Jonas Reymond Sàrl  ...  CH55011907766   \n",
              "6            MaWie Kommunikation GmbH in Liquidation  ...  CH32040824128   \n",
              "7                                    Café-Barre Sàrl  ...  CH55011113871   \n",
              "8                              RedcoMet Resources AG  ...  CH17030279439   \n",
              "9                                  Rhynea Capital AG  ...  CH17030504239   \n",
              "\n",
              "         company_seat company_legalForm     company_street_and_number  \\\n",
              "0          Birsfelden              0107              Zwinglistrasse 8   \n",
              "1               Basel              0106            Aeschenvorstadt 36   \n",
              "2      Bergün Filisur              0110               Veja Stazion 11   \n",
              "3  Saint-Sulpice (VD)              0106            Rue des Jordils 40   \n",
              "4            Lausanne              0106           Avenue de Rumine 11   \n",
              "5    La Tour-de-Peilz              0107               Rue du Temple 6   \n",
              "6            Wil (SG)              0107                Erlenstrasse 3   \n",
              "7            Lausanne              0107  Avenue du Tribunal-Fédéral 1   \n",
              "8                 Zug              0106              Baarerstrasse 82   \n",
              "9                 Zug              0106             Bahnhofstrasse 20   \n",
              "\n",
              "    company_zip_and_town                                    company_purpose  \\\n",
              "0        4127 Birsfelden  Zweck des Unternehmens ist die Erbringung von ...   \n",
              "1             4051 Basel  Die Gesellschaft bezweckt die Erforschung, die...   \n",
              "2   7482 Bergün/Bravuogn  Die gemeinnützige Stiftung GRÜN & CHROM bezwec...   \n",
              "3     1025 St-Sulpice VD  la société a pour but toute activité financièr...   \n",
              "4          1005 Lausanne  la société a pour but le développement, la cré...   \n",
              "5  1814 La Tour-de-Peilz  la société a le but suivant: toutes activités ...   \n",
              "6            9500 Wil SG  Beratung und Erbringung von Dienstleistungen i...   \n",
              "7          1005 Lausanne  la société a pour but l'exploitation de cafés ...   \n",
              "8               6302 Zug  Die Gesellschaft bezweckt den internationalen ...   \n",
              "9               6300 Zug  Die Gesellschaft bezweckt den Erwerb, das Halt...   \n",
              "\n",
              "  company_capital_nominal company_capital_paid company_optingout  \\\n",
              "0                20000.00             20000.00             false   \n",
              "1               400000.00            400000.00             false   \n",
              "2                 no data              no data             false   \n",
              "3              9280000.00           9280000.00             false   \n",
              "4               100000.00            100000.00             false   \n",
              "5                30000.00             30000.00             false   \n",
              "6                20000.00              no data             false   \n",
              "7                20000.00             20000.00              true   \n",
              "8               761000.00            761000.00             false   \n",
              "9               142842.00            142842.00             false   \n",
              "\n",
              "  company_deletiondate  \n",
              "0              no data  \n",
              "1              no data  \n",
              "2              no data  \n",
              "3              no data  \n",
              "4              no data  \n",
              "5              no data  \n",
              "6              no data  \n",
              "7              no data  \n",
              "8              no data  \n",
              "9              no data  \n",
              "\n",
              "[10 rows x 21 columns]"
            ]
          },
          "execution_count": 16,
          "metadata": {},
          "output_type": "execute_result"
        }
      ],
      "source": [
        "#1. Where to write\n",
        "output_path = \"inputs/contentdata/gazette_contentdata_jupyter.csv\"\n",
        "os.makedirs(os.path.dirname(output_path), exist_ok=True)\n",
        "#7. Dump to CSV (append if exists, otherwise write header)\n",
        "df_content = pd.DataFrame(rows2)\n",
        "df_content.head(10)"
      ]
    },
    {
      "cell_type": "markdown",
      "metadata": {},
      "source": [
        "Dataframe summary"
      ]
    },
    {
      "cell_type": "code",
      "execution_count": 17,
      "metadata": {},
      "outputs": [
        {
          "name": "stdout",
          "output_type": "stream",
          "text": [
            "<class 'pandas.core.frame.DataFrame'>\n",
            "RangeIndex: 636 entries, 0 to 635\n",
            "Data columns (total 21 columns):\n",
            " #   Column                     Non-Null Count  Dtype \n",
            "---  ------                     --------------  ----- \n",
            " 0   id                         636 non-null    object\n",
            " 1   entryType                  636 non-null    object\n",
            " 2   language                   636 non-null    object\n",
            " 3   publicationDate            636 non-null    object\n",
            " 4   legalRemedy                636 non-null    object\n",
            " 5   cantons                    636 non-null    object\n",
            " 6   title_en                   636 non-null    object\n",
            " 7   journal_date               636 non-null    object\n",
            " 8   publication_text           636 non-null    object\n",
            " 9   company_name               636 non-null    object\n",
            " 10  company_uid                636 non-null    object\n",
            " 11  company_code13             636 non-null    object\n",
            " 12  company_seat               636 non-null    object\n",
            " 13  company_legalForm          636 non-null    object\n",
            " 14  company_street_and_number  636 non-null    object\n",
            " 15  company_zip_and_town       636 non-null    object\n",
            " 16  company_purpose            636 non-null    object\n",
            " 17  company_capital_nominal    636 non-null    object\n",
            " 18  company_capital_paid       636 non-null    object\n",
            " 19  company_optingout          636 non-null    object\n",
            " 20  company_deletiondate       636 non-null    object\n",
            "dtypes: object(21)\n",
            "memory usage: 104.5+ KB\n"
          ]
        }
      ],
      "source": [
        "df_content.info()"
      ]
    },
    {
      "cell_type": "markdown",
      "metadata": {},
      "source": [
        "'id' duplicated?"
      ]
    },
    {
      "cell_type": "code",
      "execution_count": 18,
      "metadata": {},
      "outputs": [
        {
          "data": {
            "text/html": [
              "<div>\n",
              "<style scoped>\n",
              "    .dataframe tbody tr th:only-of-type {\n",
              "        vertical-align: middle;\n",
              "    }\n",
              "\n",
              "    .dataframe tbody tr th {\n",
              "        vertical-align: top;\n",
              "    }\n",
              "\n",
              "    .dataframe thead th {\n",
              "        text-align: right;\n",
              "    }\n",
              "</style>\n",
              "<table border=\"1\" class=\"dataframe\">\n",
              "  <thead>\n",
              "    <tr style=\"text-align: right;\">\n",
              "      <th></th>\n",
              "      <th>id</th>\n",
              "      <th>entryType</th>\n",
              "      <th>language</th>\n",
              "      <th>publicationDate</th>\n",
              "      <th>legalRemedy</th>\n",
              "      <th>cantons</th>\n",
              "      <th>title_en</th>\n",
              "      <th>journal_date</th>\n",
              "      <th>publication_text</th>\n",
              "      <th>company_name</th>\n",
              "      <th>...</th>\n",
              "      <th>company_code13</th>\n",
              "      <th>company_seat</th>\n",
              "      <th>company_legalForm</th>\n",
              "      <th>company_street_and_number</th>\n",
              "      <th>company_zip_and_town</th>\n",
              "      <th>company_purpose</th>\n",
              "      <th>company_capital_nominal</th>\n",
              "      <th>company_capital_paid</th>\n",
              "      <th>company_optingout</th>\n",
              "      <th>company_deletiondate</th>\n",
              "    </tr>\n",
              "  </thead>\n",
              "  <tbody>\n",
              "  </tbody>\n",
              "</table>\n",
              "<p>0 rows × 21 columns</p>\n",
              "</div>"
            ],
            "text/plain": [
              "Empty DataFrame\n",
              "Columns: [id, entryType, language, publicationDate, legalRemedy, cantons, title_en, journal_date, publication_text, company_name, company_uid, company_code13, company_seat, company_legalForm, company_street_and_number, company_zip_and_town, company_purpose, company_capital_nominal, company_capital_paid, company_optingout, company_deletiondate]\n",
              "Index: []\n",
              "\n",
              "[0 rows x 21 columns]"
            ]
          },
          "execution_count": 18,
          "metadata": {},
          "output_type": "execute_result"
        }
      ],
      "source": [
        "df_content[df_content.duplicated(subset=['id'])]"
      ]
    },
    {
      "cell_type": "markdown",
      "metadata": {},
      "source": [
        "Missing values?"
      ]
    },
    {
      "cell_type": "code",
      "execution_count": 19,
      "metadata": {},
      "outputs": [
        {
          "data": {
            "text/plain": [
              "id                           0\n",
              "entryType                    0\n",
              "language                     0\n",
              "publicationDate              0\n",
              "legalRemedy                  0\n",
              "cantons                      0\n",
              "title_en                     0\n",
              "journal_date                 0\n",
              "publication_text             0\n",
              "company_name                 0\n",
              "company_uid                  0\n",
              "company_code13               0\n",
              "company_seat                 0\n",
              "company_legalForm            0\n",
              "company_street_and_number    0\n",
              "company_zip_and_town         0\n",
              "company_purpose              0\n",
              "company_capital_nominal      0\n",
              "company_capital_paid         0\n",
              "company_optingout            0\n",
              "company_deletiondate         0\n",
              "dtype: int64"
            ]
          },
          "execution_count": 19,
          "metadata": {},
          "output_type": "execute_result"
        }
      ],
      "source": [
        "df_content.isna().sum()"
      ]
    },
    {
      "cell_type": "markdown",
      "metadata": {},
      "source": [
        "## Push file to repo ''"
      ]
    },
    {
      "cell_type": "code",
      "execution_count": 20,
      "metadata": {},
      "outputs": [
        {
          "name": "stdout",
          "output_type": "stream",
          "text": [
            "Existing publications before append: 9773\n",
            "New publications fetched:             636\n",
            "Publications discarded (duplicates): 0\n",
            "Publications appended:               636\n",
            "Total publications after append:     10409\n"
          ]
        }
      ],
      "source": [
        "# Ensure id column is string for reliable comparison\n",
        "df_content[\"id\"] = df_content[\"id\"].astype(str)\n",
        "new_count = len(df_content)\n",
        "\n",
        "if os.path.exists(output_path):\n",
        "    # 1. Load existing IDs\n",
        "    df_existing = pd.read_csv(output_path, usecols=[\"id\"])\n",
        "    df_existing[\"id\"] = df_existing[\"id\"].astype(str)\n",
        "    existing_ids = set(df_existing[\"id\"])\n",
        "    existing_count = len(existing_ids)\n",
        "\n",
        "    # 2. Determine which rows are truly new\n",
        "    mask_new = ~df_content[\"id\"].isin(existing_ids)\n",
        "    df_to_append = df_content[mask_new]\n",
        "    appended_count = len(df_to_append)\n",
        "\n",
        "    # 3. Compute discarded count\n",
        "    discarded_count = new_count - appended_count\n",
        "\n",
        "    # 4. Append new rows if any\n",
        "    if appended_count > 0:\n",
        "        df_to_append.to_csv(output_path, mode=\"a\", header=False, index=False)\n",
        "\n",
        "    # 5. Totals after append\n",
        "    total_after = existing_count + appended_count\n",
        "\n",
        "    # 6. Report to user\n",
        "    print(f\"Existing publications before append: {existing_count}\")\n",
        "    print(f\"New publications fetched:             {new_count}\")\n",
        "    print(f\"Publications discarded (duplicates): {discarded_count}\")\n",
        "    print(f\"Publications appended:               {appended_count}\")\n",
        "    print(f\"Total publications after append:     {total_after}\")\n",
        "\n",
        "else:\n",
        "    # No existing file: write all\n",
        "    df_content.to_csv(output_path, index=False)\n",
        "    print(f\"Existing publications before append: 0\")\n",
        "    print(f\"New publications fetched:            {new_count}\")\n",
        "    print(f\"Publications discarded (duplicates): 0\")\n",
        "    print(f\"Publications appended:               {new_count}\")\n",
        "    print(f\"Total publications after append:     {new_count}\")"
      ]
    },
    {
      "cell_type": "markdown",
      "metadata": {},
      "source": [
        "---"
      ]
    },
    {
      "cell_type": "markdown",
      "metadata": {},
      "source": [
        "# Conclusion and next step"
      ]
    },
    {
      "cell_type": "markdown",
      "metadata": {},
      "source": [
        "We have a clean way to retrieve 'New entries', 'Change', 'Deletion'.\n",
        "\n",
        "The data seems to be coherent. \n",
        "\n",
        "Next step is filling up the streamlit app with graphs and analysis. "
      ]
    }
  ],
  "metadata": {
    "accelerator": "GPU",
    "colab": {
      "name": "Data Practitioner Jupyter Notebook.ipynb",
      "provenance": [],
      "toc_visible": true
    },
    "kernelspec": {
      "display_name": "Python 3",
      "language": "python",
      "name": "python3"
    },
    "language_info": {
      "codemirror_mode": {
        "name": "ipython",
        "version": 3
      },
      "file_extension": ".py",
      "mimetype": "text/x-python",
      "name": "python",
      "nbconvert_exporter": "python",
      "pygments_lexer": "ipython3",
      "version": "3.10.12"
    },
    "orig_nbformat": 2
  },
  "nbformat": 4,
  "nbformat_minor": 2
}
