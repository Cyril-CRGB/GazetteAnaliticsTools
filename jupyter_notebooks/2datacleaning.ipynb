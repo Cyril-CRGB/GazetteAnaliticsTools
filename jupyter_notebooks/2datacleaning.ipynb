{
 "cells": [
  {
   "cell_type": "markdown",
   "metadata": {},
   "source": [
    "# **DATA CLEANING NOTEBOOK**"
   ]
  },
  {
   "cell_type": "markdown",
   "metadata": {},
   "source": [
    "## Objectives\n",
    "\n",
    "* Clean input data\n",
    "  * Add 3 variables: 'Damage', 'Amount', 'Day of week'\n",
    "  * Replace missing variables, and group: 'Vict Sex', 'Vict Descent', 'Premis Cd' and 'Premis Desc', 'Weapon used Cd' and 'Weapon Desc', 'Cross Street'\n",
    "  * Dropping variables: DR_NO/Date Rptd/Rpt Dist No/Part 1-2/Mocodes/Status/Status Desc/Crm Cd 1/Crm Cd 2/Crm Cd 3/Crm Cd 4\n",
    "* Save data\n",
    "\n",
    "## Inputs\n",
    "\n",
    "* The input data is a csv file called Crime_Data_from_2020_to_Present.csv\n",
    "* We also use a csv file, created just for this case, called \"Crm Cd Desc analyses.csv\"\n",
    "\n",
    "## Outputs\n",
    "\n",
    "* The output data is a csv file called dataPP5.csv \n",
    "\n",
    "## Additional Comments\n",
    "\n",
    "* ...\n"
   ]
  },
  {
   "cell_type": "markdown",
   "metadata": {},
   "source": [
    "---"
   ]
  },
  {
   "cell_type": "markdown",
   "metadata": {},
   "source": [
    "# Change working directory"
   ]
  },
  {
   "cell_type": "markdown",
   "metadata": {},
   "source": [
    "* access the current directory\n",
    "* make the parent of the current directory the new current directory"
   ]
  },
  {
   "cell_type": "code",
   "execution_count": 1,
   "metadata": {},
   "outputs": [
    {
     "data": {
      "text/plain": [
       "'/workspace/GazetteAnaliticsTools'"
      ]
     },
     "execution_count": 1,
     "metadata": {},
     "output_type": "execute_result"
    }
   ],
   "source": [
    "import os\n",
    "current_dir = os.getcwd()\n",
    "os.chdir(os.path.dirname(current_dir))\n",
    "current_dir = os.getcwd()\n",
    "current_dir"
   ]
  },
  {
   "cell_type": "markdown",
   "metadata": {},
   "source": [
    "---"
   ]
  },
  {
   "cell_type": "markdown",
   "metadata": {},
   "source": [
    "# Load Data"
   ]
  },
  {
   "cell_type": "code",
   "execution_count": 2,
   "metadata": {},
   "outputs": [
    {
     "data": {
      "text/html": [
       "<div>\n",
       "<style scoped>\n",
       "    .dataframe tbody tr th:only-of-type {\n",
       "        vertical-align: middle;\n",
       "    }\n",
       "\n",
       "    .dataframe tbody tr th {\n",
       "        vertical-align: top;\n",
       "    }\n",
       "\n",
       "    .dataframe thead th {\n",
       "        text-align: right;\n",
       "    }\n",
       "</style>\n",
       "<table border=\"1\" class=\"dataframe\">\n",
       "  <thead>\n",
       "    <tr style=\"text-align: right;\">\n",
       "      <th></th>\n",
       "      <th>id</th>\n",
       "      <th>entryType</th>\n",
       "      <th>language</th>\n",
       "      <th>publicationDate</th>\n",
       "      <th>legalRemedy</th>\n",
       "      <th>cantons</th>\n",
       "      <th>title_en</th>\n",
       "      <th>journal_date</th>\n",
       "      <th>publication_text</th>\n",
       "      <th>company_name</th>\n",
       "      <th>...</th>\n",
       "      <th>company_code13</th>\n",
       "      <th>company_seat</th>\n",
       "      <th>company_legalForm</th>\n",
       "      <th>company_street_and_number</th>\n",
       "      <th>company_zip_and_town</th>\n",
       "      <th>company_purpose</th>\n",
       "      <th>company_capital_nominal</th>\n",
       "      <th>company_capital_paid</th>\n",
       "      <th>company_optingout</th>\n",
       "      <th>company_deletiondate</th>\n",
       "    </tr>\n",
       "  </thead>\n",
       "  <tbody>\n",
       "    <tr>\n",
       "      <th>0</th>\n",
       "      <td>84a362d7-97db-4298-9cb5-fd729a14ff9f</td>\n",
       "      <td>Change</td>\n",
       "      <td>fr</td>\n",
       "      <td>2025-05-22</td>\n",
       "      <td>La mutation de l'entité juridique mentionnée a...</td>\n",
       "      <td>GE</td>\n",
       "      <td>Change TRIVAL-SERVICES SA, Genève</td>\n",
       "      <td>2025-05-19</td>\n",
       "      <td>TRIVAL-SERVICES SA, à Genève, CHE-198.815.670 ...</td>\n",
       "      <td>TRIVAL-SERVICES SA</td>\n",
       "      <td>...</td>\n",
       "      <td>CH66019500175</td>\n",
       "      <td>Genève</td>\n",
       "      <td>106</td>\n",
       "      <td>Rue Adrien-Lachenal 20</td>\n",
       "      <td>1207 Genève</td>\n",
       "      <td>en Suisse et à l'étranger: toutes activités de...</td>\n",
       "      <td>102000.00</td>\n",
       "      <td>102000.00</td>\n",
       "      <td>false</td>\n",
       "      <td>no data</td>\n",
       "    </tr>\n",
       "    <tr>\n",
       "      <th>1</th>\n",
       "      <td>ddd70bcd-e502-444c-8243-f21dcf98a4d4</td>\n",
       "      <td>Change</td>\n",
       "      <td>fr</td>\n",
       "      <td>2025-05-22</td>\n",
       "      <td>La mutation de l'entité juridique mentionnée a...</td>\n",
       "      <td>GE</td>\n",
       "      <td>Change LENNYS SA, Genève</td>\n",
       "      <td>2025-05-19</td>\n",
       "      <td>LENNYS SA, à Genève, CHE-244.696.821 (FOSC du ...</td>\n",
       "      <td>LENNYS SA</td>\n",
       "      <td>...</td>\n",
       "      <td>CH66046860240</td>\n",
       "      <td>Genève</td>\n",
       "      <td>106</td>\n",
       "      <td>Rue du Mont-Blanc 7</td>\n",
       "      <td>1201 Genève</td>\n",
       "      <td>la prise de participations directes et indirec...</td>\n",
       "      <td>100000.00</td>\n",
       "      <td>100000.00</td>\n",
       "      <td>false</td>\n",
       "      <td>no data</td>\n",
       "    </tr>\n",
       "    <tr>\n",
       "      <th>2</th>\n",
       "      <td>d13a8152-4564-4c72-bd91-cff657ce9320</td>\n",
       "      <td>Change</td>\n",
       "      <td>fr</td>\n",
       "      <td>2025-05-22</td>\n",
       "      <td>La mutation de l'entité juridique mentionnée a...</td>\n",
       "      <td>GE</td>\n",
       "      <td>Change TEMENOS AG, Lancy</td>\n",
       "      <td>2025-05-19</td>\n",
       "      <td>TEMENOS AG, à Lancy, CHE-109.066.419 (FOSC du ...</td>\n",
       "      <td>TEMENOS AG</td>\n",
       "      <td>...</td>\n",
       "      <td>CH16030039537</td>\n",
       "      <td>Lancy</td>\n",
       "      <td>106</td>\n",
       "      <td>Esplanade de Pont-Rouge 9C</td>\n",
       "      <td>1212 Grand-Lancy</td>\n",
       "      <td>directement ou indirectement l'acquisition, la...</td>\n",
       "      <td>359535735.00</td>\n",
       "      <td>359535735.00</td>\n",
       "      <td>false</td>\n",
       "      <td>no data</td>\n",
       "    </tr>\n",
       "  </tbody>\n",
       "</table>\n",
       "<p>3 rows × 21 columns</p>\n",
       "</div>"
      ],
      "text/plain": [
       "                                     id entryType language publicationDate  \\\n",
       "0  84a362d7-97db-4298-9cb5-fd729a14ff9f    Change       fr      2025-05-22   \n",
       "1  ddd70bcd-e502-444c-8243-f21dcf98a4d4    Change       fr      2025-05-22   \n",
       "2  d13a8152-4564-4c72-bd91-cff657ce9320    Change       fr      2025-05-22   \n",
       "\n",
       "                                         legalRemedy cantons  \\\n",
       "0  La mutation de l'entité juridique mentionnée a...      GE   \n",
       "1  La mutation de l'entité juridique mentionnée a...      GE   \n",
       "2  La mutation de l'entité juridique mentionnée a...      GE   \n",
       "\n",
       "                            title_en journal_date  \\\n",
       "0  Change TRIVAL-SERVICES SA, Genève   2025-05-19   \n",
       "1           Change LENNYS SA, Genève   2025-05-19   \n",
       "2           Change TEMENOS AG, Lancy   2025-05-19   \n",
       "\n",
       "                                    publication_text        company_name  ...  \\\n",
       "0  TRIVAL-SERVICES SA, à Genève, CHE-198.815.670 ...  TRIVAL-SERVICES SA  ...   \n",
       "1  LENNYS SA, à Genève, CHE-244.696.821 (FOSC du ...           LENNYS SA  ...   \n",
       "2  TEMENOS AG, à Lancy, CHE-109.066.419 (FOSC du ...          TEMENOS AG  ...   \n",
       "\n",
       "  company_code13 company_seat company_legalForm   company_street_and_number  \\\n",
       "0  CH66019500175       Genève               106      Rue Adrien-Lachenal 20   \n",
       "1  CH66046860240       Genève               106         Rue du Mont-Blanc 7   \n",
       "2  CH16030039537        Lancy               106  Esplanade de Pont-Rouge 9C   \n",
       "\n",
       "  company_zip_and_town                                    company_purpose  \\\n",
       "0          1207 Genève  en Suisse et à l'étranger: toutes activités de...   \n",
       "1          1201 Genève  la prise de participations directes et indirec...   \n",
       "2     1212 Grand-Lancy  directement ou indirectement l'acquisition, la...   \n",
       "\n",
       "  company_capital_nominal company_capital_paid company_optingout  \\\n",
       "0               102000.00            102000.00             false   \n",
       "1               100000.00            100000.00             false   \n",
       "2            359535735.00         359535735.00             false   \n",
       "\n",
       "  company_deletiondate  \n",
       "0              no data  \n",
       "1              no data  \n",
       "2              no data  \n",
       "\n",
       "[3 rows x 21 columns]"
      ]
     },
     "execution_count": 2,
     "metadata": {},
     "output_type": "execute_result"
    }
   ],
   "source": [
    "import pandas as pd\n",
    "df = pd.read_csv(\"inputs/contentdata/gazette_contentdata_jupyter.csv\")\n",
    "df.head(3)\n"
   ]
  },
  {
   "cell_type": "markdown",
   "metadata": {},
   "source": [
    "---"
   ]
  },
  {
   "cell_type": "markdown",
   "metadata": {},
   "source": [
    "Cleaning 'date' type columns, in existing CSV (only once before uploading to heroku postgresql 'gazette_contentdata' table)"
   ]
  },
  {
   "cell_type": "code",
   "execution_count": 3,
   "metadata": {},
   "outputs": [
    {
     "name": "stdout",
     "output_type": "stream",
     "text": [
      "Cleaned inputs/contentdata/gazette_contentdata_jupyter.csv: replaced 'no data' with blanks in ['publicationDate', 'journal_date', 'company_deletiondate']\n"
     ]
    }
   ],
   "source": [
    "import pandas as pd\n",
    "\n",
    "input_path = \"inputs/contentdata/gazette_contentdata_jupyter.csv\"\n",
    "\n",
    "# 1. Read the CSV\n",
    "df = pd.read_csv(input_path)\n",
    "\n",
    "# 2. List the columns that are DATE in Postgres\n",
    "date_cols = [\"publicationDate\", \"journal_date\", \"company_deletiondate\"]\n",
    "\n",
    "# 3. Replace the string \"no data\" with actual pandas NA\n",
    "df[date_cols] = df[date_cols].replace(\"no data\", pd.NaT)\n",
    "\n",
    "# 4. (Optional) ensure they’re proper datetimes; any non-parseable values become NaT\n",
    "for c in date_cols:\n",
    "    df[c] = pd.to_datetime(df[c], errors=\"coerce\")\n",
    "\n",
    "# 5. Overwrite the CSV\n",
    "df.to_csv(input_path, index=False)\n",
    "\n",
    "print(f\"Cleaned {input_path}: replaced 'no data' with blanks in {date_cols}\")"
   ]
  },
  {
   "cell_type": "markdown",
   "metadata": {},
   "source": [
    "Cleaning 'numeric' type columns, in existing CSV (only once before uploading to heroku postgresql 'gazette_contentdata' table)"
   ]
  },
  {
   "cell_type": "code",
   "execution_count": 4,
   "metadata": {},
   "outputs": [
    {
     "name": "stdout",
     "output_type": "stream",
     "text": [
      "Cleaned numeric columns ['company_capital_nominal', 'company_capital_paid'] in inputs/contentdata/gazette_contentdata_jupyter.csv\n"
     ]
    }
   ],
   "source": [
    "import pandas as pd\n",
    "\n",
    "# 1. Load the CSV\n",
    "path = \"inputs/contentdata/gazette_contentdata_jupyter.csv\"\n",
    "df = pd.read_csv(path)\n",
    "\n",
    "# 2. Columns to fix\n",
    "numeric_cols = [\"company_capital_nominal\", \"company_capital_paid\"]\n",
    "\n",
    "# 3. Replace the literal \"no data\" with NaN, then coerce to numeric\n",
    "for col in numeric_cols:\n",
    "    # turn any “no data” (or other non‐numeric) into NaN\n",
    "    df[col] = pd.to_numeric(df[col].replace(\"no data\", pd.NA), errors=\"coerce\")\n",
    "\n",
    "# 4. (Optional) fill NaN with empty so that CSV will produce blank cells\n",
    "#    — Postgres will interpret blanks as NULL when importing\n",
    "df[numeric_cols] = df[numeric_cols].fillna(\"\")\n",
    "\n",
    "# 5. Overwrite the CSV\n",
    "df.to_csv(path, index=False)\n",
    "\n",
    "print(f\"Cleaned numeric columns {numeric_cols} in {path}\")"
   ]
  },
  {
   "cell_type": "markdown",
   "metadata": {},
   "source": [
    "Cleaning 'boolean' type columns, in existing CSV (only once before uploading to heroku postgresql 'gazette_contentdata' table)"
   ]
  },
  {
   "cell_type": "code",
   "execution_count": 5,
   "metadata": {},
   "outputs": [
    {
     "name": "stdout",
     "output_type": "stream",
     "text": [
      "Cleaned boolean column(s) ['company_optingout'] in inputs/contentdata/gazette_contentdata_jupyter.csv\n"
     ]
    }
   ],
   "source": [
    "import pandas as pd\n",
    "\n",
    "# 1. Load your CSV\n",
    "path = \"inputs/contentdata/gazette_contentdata_jupyter.csv\"\n",
    "df = pd.read_csv(path, dtype=str)  # read everything as string\n",
    "\n",
    "# 2. Specify the boolean columns to fix\n",
    "bool_cols = [\"company_optingout\"]\n",
    "\n",
    "for col in bool_cols:\n",
    "    # 3a. Normalize case and replace \"no data\" (or any other non-true/false) with pd.NA\n",
    "    s = df[col].str.lower().replace(\"no data\", pd.NA)\n",
    "    # 3b. Map \"true\"->True, \"false\"->False; anything else becomes pd.NA\n",
    "    df[col] = s.map({\"true\": True, \"false\": False})\n",
    "    # 4. When writing to CSV, blanks will become empty cells (interpreted as NULL by Postgres)\n",
    "    df[col] = df[col].where(df[col].notna(), \"\")\n",
    "\n",
    "# 5. Overwrite the CSV\n",
    "df.to_csv(path, index=False)\n",
    "\n",
    "print(f\"Cleaned boolean column(s) {bool_cols} in {path}\")"
   ]
  }
 ],
 "metadata": {
  "kernelspec": {
   "display_name": "Python 3",
   "language": "python",
   "name": "python3"
  },
  "language_info": {
   "codemirror_mode": {
    "name": "ipython",
    "version": 3
   },
   "file_extension": ".py",
   "mimetype": "text/x-python",
   "name": "python",
   "nbconvert_exporter": "python",
   "pygments_lexer": "ipython3",
   "version": "3.10.12"
  }
 },
 "nbformat": 4,
 "nbformat_minor": 2
}
